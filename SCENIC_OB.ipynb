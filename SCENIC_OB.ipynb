{
 "cells": [
  {
   "cell_type": "markdown",
   "metadata": {},
   "source": [
    "### 0. Load the input data"
   ]
  },
  {
   "cell_type": "code",
   "execution_count": null,
   "metadata": {},
   "outputs": [],
   "source": [
    "conda activate bioinfo\n",
    "pip install pyscenic\n",
    "conda install -y numpy"
   ]
  },
  {
   "cell_type": "code",
   "execution_count": 1,
   "metadata": {},
   "outputs": [],
   "source": [
    "import os\n",
    "import glob\n",
    "import pickle\n",
    "import pandas as pd\n",
    "import numpy as np"
   ]
  },
  {
   "cell_type": "code",
   "execution_count": 2,
   "metadata": {},
   "outputs": [
    {
     "name": "stderr",
     "output_type": "stream",
     "text": [
      "/anaconda3/envs/scenic_protocol/lib/python3.6/site-packages/dask/config.py:161: YAMLLoadWarning: calling yaml.load() without Loader=... is deprecated, as the default Loader is unsafe. Please read https://msg.pyyaml.org/load for full details.\n",
      "  data = yaml.load(f.read()) or {}\n"
     ]
    }
   ],
   "source": [
    "from dask.diagnostics import ProgressBar\n",
    "\n",
    "from arboreto.utils import load_tf_names\n",
    "from arboreto.algo import grnboost2\n",
    "\n",
    "from pyscenic.rnkdb import FeatherRankingDatabase as RankingDatabase\n",
    "from pyscenic.utils import modules_from_adjacencies, load_motifs\n",
    "from pyscenic.prune import prune2df, df2regulons\n",
    "from pyscenic.aucell import aucell"
   ]
  },
  {
   "cell_type": "code",
   "execution_count": 3,
   "metadata": {},
   "outputs": [],
   "source": [
    "DATA_FOLDER=\"/Users/apple/Desktop/work/data/SCENIC/OB\"\n",
    "RESOURCES_FOLDER=\"/Users/apple/Desktop/work/data/SCENIC/数据\"\n",
    "DATABASE_FOLDER = \"/Users/apple/Desktop/work/data/SCENIC/cisTarget_databases/\"\n",
    "SCHEDULER=\"123.122.8.24:8786\"\n",
    "DATABASES_GLOB = os.path.join(DATABASE_FOLDER, \"mm9-*.feather\")\n",
    "MOTIF_ANNOTATIONS_FNAME = os.path.join(RESOURCES_FOLDER, \"motifs-v9-nr.mgi-m0.001-o0.0.tbl\")\n",
    "MM_TFS_FNAME = os.path.join(RESOURCES_FOLDER, 'mm_mgi_tfs.txt')\n",
    "SC_EXP_FNAME = os.path.join(RESOURCES_FOLDER, \"exprMat_filtered_OB.txt\")\n",
    "REGULONS_FNAME = os.path.join(DATA_FOLDER, \"regulons.p\")\n",
    "MOTIFS_FNAME = os.path.join(DATA_FOLDER, \"motifs.csv\")"
   ]
  },
  {
   "cell_type": "code",
   "execution_count": null,
   "metadata": {},
   "outputs": [],
   "source": [
    "#服务器\n",
    "DATA_FOLDER=\"/home/lmlu/scRNAseq/SCENIC/OB\"\n",
    "RESOURCES_FOLDER=\"/home/lmlu/scRNAseq/SCENIC/data\"\n",
    "DATABASE_FOLDER = \"/home/lmlu/scRNAseq/SCENIC/cisTarget_databases/\"\n",
    "SCHEDULER=\"123.122.8.24:8786\"\n",
    "DATABASES_GLOB = os.path.join(DATABASE_FOLDER, \"mm9-*.feather\")\n",
    "MOTIF_ANNOTATIONS_FNAME = os.path.join(RESOURCES_FOLDER, \"motifs-v9-nr.mgi-m0.001-o0.0.tbl\")\n",
    "MM_TFS_FNAME = os.path.join(RESOURCES_FOLDER, 'mm_mgi_tfs.txt')\n",
    "SC_EXP_FNAME = os.path.join(RESOURCES_FOLDER, \"exprMat_filtered_OB.txt\")\n",
    "REGULONS_FNAME = os.path.join(DATA_FOLDER, \"regulons.p\")\n",
    "MOTIFS_FNAME = os.path.join(DATA_FOLDER, \"motifs.csv\")"
   ]
  },
  {
   "cell_type": "code",
   "execution_count": null,
   "metadata": {},
   "outputs": [],
   "source": [
    "####### OB neuron\n",
    "DATA_FOLDER=\"/home/lmlu/scRNAseq/SCENIC/ob_neuron_male\"\n",
    "RESOURCES_FOLDER=\"/home/lmlu/scRNAseq/SCENIC/data\"\n",
    "DATABASE_FOLDER = \"/home/lmlu/scRNAseq/SCENIC/cisTarget_databases/\"\n",
    "SCHEDULER=\"123.122.8.24:8786\"\n",
    "DATABASES_GLOB = os.path.join(DATABASE_FOLDER, \"mm9-*.feather\")\n",
    "MOTIF_ANNOTATIONS_FNAME = os.path.join(RESOURCES_FOLDER, \"motifs-v9-nr.mgi-m0.001-o0.0.tbl\")\n",
    "MM_TFS_FNAME = os.path.join(RESOURCES_FOLDER, 'mm_mgi_tfs.txt')\n",
    "SC_EXP_FNAME = os.path.join(RESOURCES_FOLDER, \"exprMat_OB_neuron_male.txt\")\n",
    "REGULONS_FNAME = os.path.join(DATA_FOLDER, \"regulons_neuron_male.p\")\n",
    "MOTIFS_FNAME = os.path.join(DATA_FOLDER, \"motifs_neuron_male.csv\")"
   ]
  },
  {
   "cell_type": "code",
   "execution_count": 5,
   "metadata": {},
   "outputs": [
    {
     "data": {
      "text/plain": [
       "(4851, 15836)"
      ]
     },
     "execution_count": 5,
     "metadata": {},
     "output_type": "execute_result"
    }
   ],
   "source": [
    "# 读入表达矩阵，表达矩阵的格式：横坐标是基因，纵坐标是细胞\n",
    "ex_matrix = pd.read_csv(SC_EXP_FNAME, sep='\\t', header=0, index_col=0).T\n",
    "ex_matrix.shape"
   ]
  },
  {
   "cell_type": "code",
   "execution_count": 6,
   "metadata": {},
   "outputs": [
    {
     "data": {
      "text/plain": [
       "[FeatherRankingDatabase(name=\"mm9-500bp-upstream-7species\"),\n",
       " FeatherRankingDatabase(name=\"mm9-tss-centered-10kb-7species\")]"
      ]
     },
     "execution_count": 6,
     "metadata": {},
     "output_type": "execute_result"
    }
   ],
   "source": [
    "# 导入转录因子\n",
    "tf_names = load_tf_names(MM_TFS_FNAME)\n",
    "\n",
    "# 导入数据库\n",
    "db_fnames = glob.glob(DATABASES_GLOB)\n",
    "def name(fname):\n",
    "    return os.path.basename(fname).split(\".\")[0]   \n",
    "dbs = [RankingDatabase(fname=fname, name=name(fname)) for fname in db_fnames]\n",
    "dbs"
   ]
  },
  {
   "cell_type": "code",
   "execution_count": 7,
   "metadata": {
    "scrolled": true
   },
   "outputs": [
    {
     "data": {
      "text/html": [
       "<div>\n",
       "<style scoped>\n",
       "    .dataframe tbody tr th:only-of-type {\n",
       "        vertical-align: middle;\n",
       "    }\n",
       "\n",
       "    .dataframe tbody tr th {\n",
       "        vertical-align: top;\n",
       "    }\n",
       "\n",
       "    .dataframe thead th {\n",
       "        text-align: right;\n",
       "    }\n",
       "</style>\n",
       "<table border=\"1\" class=\"dataframe\">\n",
       "  <thead>\n",
       "    <tr style=\"text-align: right;\">\n",
       "      <th></th>\n",
       "      <th>Sox17</th>\n",
       "      <th>Mrpl15</th>\n",
       "      <th>Lypla1</th>\n",
       "      <th>Tcea1</th>\n",
       "      <th>Rgs20</th>\n",
       "      <th>Atp6v1h</th>\n",
       "      <th>Oprk1</th>\n",
       "      <th>Npbwr1</th>\n",
       "      <th>Rb1cc1</th>\n",
       "      <th>4732440D04Rik</th>\n",
       "      <th>...</th>\n",
       "      <th>mt-Nd5</th>\n",
       "      <th>mt-Nd6</th>\n",
       "      <th>mt-Cytb</th>\n",
       "      <th>Vamp7</th>\n",
       "      <th>Spry3</th>\n",
       "      <th>Tmlhe</th>\n",
       "      <th>AC132444.6</th>\n",
       "      <th>AC125149.3</th>\n",
       "      <th>PISD</th>\n",
       "      <th>DHRSX</th>\n",
       "    </tr>\n",
       "  </thead>\n",
       "  <tbody>\n",
       "    <tr>\n",
       "      <th>AAACCTGAGTTGTAGA_1</th>\n",
       "      <td>0.0</td>\n",
       "      <td>0.000000</td>\n",
       "      <td>0.0</td>\n",
       "      <td>0.000000</td>\n",
       "      <td>0.0</td>\n",
       "      <td>0.0</td>\n",
       "      <td>0.0</td>\n",
       "      <td>0.0</td>\n",
       "      <td>0.0</td>\n",
       "      <td>1.300059</td>\n",
       "      <td>...</td>\n",
       "      <td>1.300059</td>\n",
       "      <td>0.0</td>\n",
       "      <td>4.133546</td>\n",
       "      <td>1.300059</td>\n",
       "      <td>0.0</td>\n",
       "      <td>0.0</td>\n",
       "      <td>0.0</td>\n",
       "      <td>0.0</td>\n",
       "      <td>0.000000</td>\n",
       "      <td>0.0</td>\n",
       "    </tr>\n",
       "    <tr>\n",
       "      <th>AAACCTGTCGGCGCAT_1</th>\n",
       "      <td>0.0</td>\n",
       "      <td>0.000000</td>\n",
       "      <td>0.0</td>\n",
       "      <td>0.000000</td>\n",
       "      <td>0.0</td>\n",
       "      <td>0.0</td>\n",
       "      <td>0.0</td>\n",
       "      <td>0.0</td>\n",
       "      <td>0.0</td>\n",
       "      <td>0.000000</td>\n",
       "      <td>...</td>\n",
       "      <td>0.000000</td>\n",
       "      <td>0.0</td>\n",
       "      <td>2.640343</td>\n",
       "      <td>0.000000</td>\n",
       "      <td>0.0</td>\n",
       "      <td>0.0</td>\n",
       "      <td>0.0</td>\n",
       "      <td>0.0</td>\n",
       "      <td>0.000000</td>\n",
       "      <td>0.0</td>\n",
       "    </tr>\n",
       "    <tr>\n",
       "      <th>AAACCTGTCTACTCAT_1</th>\n",
       "      <td>0.0</td>\n",
       "      <td>0.826952</td>\n",
       "      <td>0.0</td>\n",
       "      <td>1.273315</td>\n",
       "      <td>0.0</td>\n",
       "      <td>0.0</td>\n",
       "      <td>0.0</td>\n",
       "      <td>0.0</td>\n",
       "      <td>0.0</td>\n",
       "      <td>0.000000</td>\n",
       "      <td>...</td>\n",
       "      <td>0.826952</td>\n",
       "      <td>0.0</td>\n",
       "      <td>3.645550</td>\n",
       "      <td>0.000000</td>\n",
       "      <td>0.0</td>\n",
       "      <td>0.0</td>\n",
       "      <td>0.0</td>\n",
       "      <td>0.0</td>\n",
       "      <td>0.000000</td>\n",
       "      <td>0.0</td>\n",
       "    </tr>\n",
       "    <tr>\n",
       "      <th>AAACCTGTCTGACCTC_1</th>\n",
       "      <td>0.0</td>\n",
       "      <td>0.000000</td>\n",
       "      <td>0.0</td>\n",
       "      <td>1.514823</td>\n",
       "      <td>0.0</td>\n",
       "      <td>0.0</td>\n",
       "      <td>0.0</td>\n",
       "      <td>0.0</td>\n",
       "      <td>0.0</td>\n",
       "      <td>0.000000</td>\n",
       "      <td>...</td>\n",
       "      <td>0.000000</td>\n",
       "      <td>0.0</td>\n",
       "      <td>2.091522</td>\n",
       "      <td>0.000000</td>\n",
       "      <td>0.0</td>\n",
       "      <td>0.0</td>\n",
       "      <td>0.0</td>\n",
       "      <td>0.0</td>\n",
       "      <td>1.514823</td>\n",
       "      <td>0.0</td>\n",
       "    </tr>\n",
       "    <tr>\n",
       "      <th>AAACGGGAGAGAGCTC_1</th>\n",
       "      <td>0.0</td>\n",
       "      <td>0.000000</td>\n",
       "      <td>0.0</td>\n",
       "      <td>0.000000</td>\n",
       "      <td>0.0</td>\n",
       "      <td>0.0</td>\n",
       "      <td>0.0</td>\n",
       "      <td>0.0</td>\n",
       "      <td>0.0</td>\n",
       "      <td>0.000000</td>\n",
       "      <td>...</td>\n",
       "      <td>2.541010</td>\n",
       "      <td>0.0</td>\n",
       "      <td>4.085345</td>\n",
       "      <td>0.000000</td>\n",
       "      <td>0.0</td>\n",
       "      <td>0.0</td>\n",
       "      <td>0.0</td>\n",
       "      <td>0.0</td>\n",
       "      <td>0.000000</td>\n",
       "      <td>0.0</td>\n",
       "    </tr>\n",
       "  </tbody>\n",
       "</table>\n",
       "<p>5 rows × 15836 columns</p>\n",
       "</div>"
      ],
      "text/plain": [
       "                    Sox17    Mrpl15  Lypla1     Tcea1  Rgs20  Atp6v1h  Oprk1  \\\n",
       "AAACCTGAGTTGTAGA_1    0.0  0.000000     0.0  0.000000    0.0      0.0    0.0   \n",
       "AAACCTGTCGGCGCAT_1    0.0  0.000000     0.0  0.000000    0.0      0.0    0.0   \n",
       "AAACCTGTCTACTCAT_1    0.0  0.826952     0.0  1.273315    0.0      0.0    0.0   \n",
       "AAACCTGTCTGACCTC_1    0.0  0.000000     0.0  1.514823    0.0      0.0    0.0   \n",
       "AAACGGGAGAGAGCTC_1    0.0  0.000000     0.0  0.000000    0.0      0.0    0.0   \n",
       "\n",
       "                    Npbwr1  Rb1cc1  4732440D04Rik  ...    mt-Nd5  mt-Nd6  \\\n",
       "AAACCTGAGTTGTAGA_1     0.0     0.0       1.300059  ...  1.300059     0.0   \n",
       "AAACCTGTCGGCGCAT_1     0.0     0.0       0.000000  ...  0.000000     0.0   \n",
       "AAACCTGTCTACTCAT_1     0.0     0.0       0.000000  ...  0.826952     0.0   \n",
       "AAACCTGTCTGACCTC_1     0.0     0.0       0.000000  ...  0.000000     0.0   \n",
       "AAACGGGAGAGAGCTC_1     0.0     0.0       0.000000  ...  2.541010     0.0   \n",
       "\n",
       "                     mt-Cytb     Vamp7  Spry3  Tmlhe  AC132444.6  AC125149.3  \\\n",
       "AAACCTGAGTTGTAGA_1  4.133546  1.300059    0.0    0.0         0.0         0.0   \n",
       "AAACCTGTCGGCGCAT_1  2.640343  0.000000    0.0    0.0         0.0         0.0   \n",
       "AAACCTGTCTACTCAT_1  3.645550  0.000000    0.0    0.0         0.0         0.0   \n",
       "AAACCTGTCTGACCTC_1  2.091522  0.000000    0.0    0.0         0.0         0.0   \n",
       "AAACGGGAGAGAGCTC_1  4.085345  0.000000    0.0    0.0         0.0         0.0   \n",
       "\n",
       "                        PISD  DHRSX  \n",
       "AAACCTGAGTTGTAGA_1  0.000000    0.0  \n",
       "AAACCTGTCGGCGCAT_1  0.000000    0.0  \n",
       "AAACCTGTCTACTCAT_1  0.000000    0.0  \n",
       "AAACCTGTCTGACCTC_1  1.514823    0.0  \n",
       "AAACGGGAGAGAGCTC_1  0.000000    0.0  \n",
       "\n",
       "[5 rows x 15836 columns]"
      ]
     },
     "execution_count": 7,
     "metadata": {},
     "output_type": "execute_result"
    }
   ],
   "source": [
    "ex_matrix.head()"
   ]
  },
  {
   "cell_type": "code",
   "execution_count": 8,
   "metadata": {},
   "outputs": [
    {
     "data": {
      "text/plain": [
       "['Hoxa9', 'Zfp128', 'Zfp853', 'Nr1h2', 'Nr1h3']"
      ]
     },
     "execution_count": 8,
     "metadata": {},
     "output_type": "execute_result"
    }
   ],
   "source": [
    "tf_names[:5]"
   ]
  },
  {
   "cell_type": "markdown",
   "metadata": {},
   "source": [
    "### 1. Inference of co-expression modules"
   ]
  },
  {
   "cell_type": "code",
   "execution_count": 9,
   "metadata": {},
   "outputs": [
    {
     "name": "stdout",
     "output_type": "stream",
     "text": [
      "preparing dask client\n",
      "parsing input\n",
      "creating dask graph\n"
     ]
    },
    {
     "name": "stderr",
     "output_type": "stream",
     "text": [
      "/anaconda3/envs/scenic_protocol/lib/python3.6/site-packages/arboreto/algo.py:214: FutureWarning: Method .as_matrix will be removed in a future version. Use .values instead.\n",
      "  expression_matrix = expression_data.as_matrix()\n"
     ]
    },
    {
     "name": "stdout",
     "output_type": "stream",
     "text": [
      "4 partitions\n",
      "computing dask graph\n",
      "shutting down client and local cluster\n",
      "finished\n"
     ]
    }
   ],
   "source": [
    "# 两条命令解决\n",
    "adjacencies = grnboost2(ex_matrix, tf_names=tf_names, verbose=True) #耗时"
   ]
  },
  {
   "cell_type": "code",
   "execution_count": 10,
   "metadata": {},
   "outputs": [
    {
     "data": {
      "text/html": [
       "<div>\n",
       "<style scoped>\n",
       "    .dataframe tbody tr th:only-of-type {\n",
       "        vertical-align: middle;\n",
       "    }\n",
       "\n",
       "    .dataframe tbody tr th {\n",
       "        vertical-align: top;\n",
       "    }\n",
       "\n",
       "    .dataframe thead th {\n",
       "        text-align: right;\n",
       "    }\n",
       "</style>\n",
       "<table border=\"1\" class=\"dataframe\">\n",
       "  <thead>\n",
       "    <tr style=\"text-align: right;\">\n",
       "      <th></th>\n",
       "      <th>TF</th>\n",
       "      <th>target</th>\n",
       "      <th>importance</th>\n",
       "    </tr>\n",
       "  </thead>\n",
       "  <tbody>\n",
       "    <tr>\n",
       "      <th>1152</th>\n",
       "      <td>Mylk</td>\n",
       "      <td>Tagln</td>\n",
       "      <td>205.518957</td>\n",
       "    </tr>\n",
       "    <tr>\n",
       "      <th>1152</th>\n",
       "      <td>Mylk</td>\n",
       "      <td>Pln</td>\n",
       "      <td>162.223438</td>\n",
       "    </tr>\n",
       "    <tr>\n",
       "      <th>1152</th>\n",
       "      <td>Mylk</td>\n",
       "      <td>Myh11</td>\n",
       "      <td>159.591700</td>\n",
       "    </tr>\n",
       "    <tr>\n",
       "      <th>308</th>\n",
       "      <td>Jun</td>\n",
       "      <td>Fos</td>\n",
       "      <td>140.834201</td>\n",
       "    </tr>\n",
       "    <tr>\n",
       "      <th>1066</th>\n",
       "      <td>Fos</td>\n",
       "      <td>Jun</td>\n",
       "      <td>139.244663</td>\n",
       "    </tr>\n",
       "  </tbody>\n",
       "</table>\n",
       "</div>"
      ],
      "text/plain": [
       "        TF target  importance\n",
       "1152  Mylk  Tagln  205.518957\n",
       "1152  Mylk    Pln  162.223438\n",
       "1152  Mylk  Myh11  159.591700\n",
       "308    Jun    Fos  140.834201\n",
       "1066   Fos    Jun  139.244663"
      ]
     },
     "execution_count": 10,
     "metadata": {},
     "output_type": "execute_result"
    }
   ],
   "source": [
    "adjacencies.head()"
   ]
  },
  {
   "cell_type": "code",
   "execution_count": null,
   "metadata": {},
   "outputs": [],
   "source": [
    "adjacencies.to_csv('OB_network.tsv', sep='\\t', header=False, index=False)"
   ]
  },
  {
   "cell_type": "code",
   "execution_count": 11,
   "metadata": {},
   "outputs": [
    {
     "name": "stderr",
     "output_type": "stream",
     "text": [
      "\n",
      "2020-07-22 00:33:26,000 - pyscenic.utils - INFO - Calculating Pearson correlations.\n",
      "\n",
      "2020-07-22 00:33:28,431 - pyscenic.utils - WARNING - Note on correlation calculation: the default behaviour for calculating the correlations has changed after pySCENIC verion 0.9.16. Previously, the default was to calculate the correlation between a TF and target gene using only cells with non-zero expression values (mask_dropouts=True). The current default is now to use all cells to match the behavior of the R verision of SCENIC. The original settings can be retained by setting 'rho_mask_dropouts=True' in the modules_from_adjacencies function, or '--mask_dropouts' from the CLI.\n",
      "\tDropout masking is currently set to [False].\n",
      "\n",
      "2020-07-22 00:35:25,207 - pyscenic.utils - INFO - Creating modules.\n"
     ]
    }
   ],
   "source": [
    "modules = list(modules_from_adjacencies(adjacencies, ex_matrix))"
   ]
  },
  {
   "cell_type": "code",
   "execution_count": 12,
   "metadata": {},
   "outputs": [
    {
     "data": {
      "text/plain": [
       "[Regulon(name='Regulon for 1810024B03Rik', gene2weight=<frozendict {'Zp3': 7.189295875846311, 'Trim36': 5.1916712039154325, 'Nudcd2': 5.0701201708671055, 'Shank2': 4.998584856320017, 'Lrrc36': 4.644074837725707, 'Ccdc151': 4.267150845199709, 'Cmbl': 4.25369651405648, 'Smim5': 4.198711597810231, 'Dthd1': 3.8714232198485314, 'Dnali1': 3.4709228505434755, 'Lrrc71': 3.225507935407718, 'Zmynd19': 2.9759039118056734, 'S100a3': 2.9625572998069036, '1700016K19Rik': 2.844811955950031, 'I830077J02Rik': 2.7884249378108485, 'Cfap46': 2.782250601994094, 'Lrrc51': 2.738360567223428, 'Malt1': 2.6676074161706143, 'Sowaha': 2.571687954237319, 'Dok1': 2.5048688700647457, 'Zbtb46': 2.489267893146697, 'Tmem68': 2.4853365081531194, 'Pon3': 2.4785920423201118, 'Erich2': 2.3946657611677304, 'Odf3b': 2.3893230769851095, 'Drg1': 2.306056802177854, 'Fam216b': 2.302001875213974, 'Tnfsf13os': 2.2465659755103258, 'Gm42669': 2.180040091919426, '1110017D15Rik': 2.170285551882759, 'Ms4a6b': 2.151902789899293, 'Col26a1': 2.1385558192736203, 'Ttc9': 2.117235685676678, 'Fibin': 2.0988569670120967, 'Usp16': 1.9931623288756508, 'Ccdc153': 1.9685305757642209, 'Dnah9': 1.920023229406829, 'Ahdc1': 1.8450663664691893, 'Zfpm1': 1.8447633022313197, 'Gm7173': 1.8340895958761099, 'Ang': 1.8135366052155495, 'Ttll6': 1.8022104978446167, 'Siae': 1.7874836781153074, 'Trim27': 1.7782709872799363, 'Matn2': 1.7761659764116022, 'Cnst': 1.7595594986159826, 'Bcl7b': 1.7412842965828887, 'Stoml3': 1.7224736938087253, 'Clec4a2': 1.6823387529246208, 'Cfap54': 1.6787158144881607, 'Slit1': 1.6564980466233, '3300002A11Rik': 1.6514899044442204, 'Herc6': 1.6507850192943299, 'Pacsin2': 1.6503796342137143, 'Zdhhc18': 1.6419496219446397, 'Fam131b': 1.6276656819059, 'Armc2': 1.6267861727652397, 'Cfap206': 1.5867013575128535, 'Cnih4': 1.5749958639250328, 'Zbtb17': 1.5683470515851676, 'Ofd1': 1.5219594210217267, 'Siglecg': 1.509226930763337, 'Vps72': 1.500541744762296, 'Proscos': 1.4617037164717195, 'Spag17': 1.4528330906959939, 'B3gnt5': 1.4276935145702399, 'Abtb2': 1.4129074411161828, '2310040G24Rik': 1.3723499798415737, 'Cd59b': 1.362299488328304, 'Vbp1': 1.349226090608417, 'Sncaip': 1.3383698894809568, 'Rsph4a': 1.3241556182385774, 'Atf6': 1.3194477745499154, 'Stat6': 1.3136250148554898, 'P4ha1': 1.2461720270297283, 'Agbl3': 1.2424761874244439, 'Braf': 1.2408861895354906, 'Snrnp35': 1.240777376439892, 'Rc3h2': 1.2068637251323024, 'Ccdc138': 1.204791716180089, 'Ccdc74a': 1.1977625083446968, 'Gm11713': 1.1816528691222334, 'Dnah12': 1.1688063011276613, 'Ifih1': 1.1661728427220674, 'Clec1b': 1.1435024536236817, 'Sfmbt1': 1.1391307777210478, 'Gal3st4': 1.1378905880242063, 'Phf11c': 1.129524422527377, 'Tmem238': 1.12242666481949, 'Msx1': 1.0943366785752169, 'Tmem212': 1.082739727160682, 'Zfp593': 1.0809887649689263, 'A430005L14Rik': 1.0717677269564738, 'Nelfe': 1.070113199141348, 'Nsl1': 1.0546669566084417, 'Dnah7c': 1.045450351620953, 'Maf1': 1.0393453662353869, '2810006K23Rik': 1.0355410025278835, 'Emilin2': 1.026644988341147, 'Gss': 1.0234372422855353, 'Tulp3': 1.0146595581127507, 'Paip2b': 1.0107273101513856, 'Cmtm7': 1.0049595567215617, 'Abcc3': 0.997680456608297, 'Tfeb': 0.9905950533679766, 'Pou6f1': 0.9755517488031922, 'Snhg12': 0.9669053916091557, 'Gfm2': 0.9557520488164212, 'Fuca1': 0.9390919995775678, '1700041G16Rik': 0.9192517032220043, 'Ephx3': 0.9146008366480479, 'Tmem216': 0.911064974244119, 'Ccdc146': 0.9102815743256687, 'Tmem74': 0.9053165023265523, 'Ppp1r35': 0.8834325897786991, 'Bcl9': 0.8814116286172499, 'Alad': 0.8712954583714643, 'Trmt6': 0.8649636929633543, 'Nt5dc3': 0.8626832394139751, 'Pdlim3': 0.8583242048973975, 'Gm9934': 0.81156975746908, 'Cfap70': 0.8087572584151465, 'Ccdc108': 0.8072767366226672, 'Cacnb4': 0.7949621402715132, 'Abca6': 0.7949290029660688, 'Ak7': 0.7866221952100939, 'Mmp11': 0.7856242304137198, 'B430306N03Rik': 0.7830024221448583, 'Oard1': 0.7803934468664103, '3110079O15Rik': 0.7688379730717761, 'Pop4': 0.7501896436381604, 'Edem2': 0.7425109545709005, '1700028P14Rik': 0.7259089444304699, 'Tmem63b': 0.7224156294621296, 'Reep3': 0.7206578136063929, 'Lrp12': 0.7185393308341096, 'Ncapd3': 0.7135417413365248, 'Odf3l1': 0.712509517957928, 'RP23-207N5.2': 0.7089379790916874, 'Pcdha5': 0.7057138320631192, 'Ippk': 0.7053107048383992, 'Tchp': 0.703820248393419, 'Myo7a': 0.7027732209139653, 'Foxj1': 0.6951748078723716, 'Cmtm3': 0.6732285919159922, 'Pofut1': 0.6687737085522597, 'Itga2b': 0.6664237965864614, 'Ccdc32': 0.664988166563448, 'Dgkd': 0.6621874890331345, 'Srsf9': 0.661441966329022, 'Cybb': 0.6608705550319043, 'Rnaseh2b': 0.6605593302870566, 'Rnaseh1': 0.6409134505717791, '4933415A04Rik': 0.6326472199890324, 'Nkx2-9': 0.6200947066965372, 'Foxn2': 0.6165929120089462, '4833418N02Rik': 0.615997401245831, 'Crebbp': 0.6015149281868123, 'Nrbp2': 0.5970389548066345, 'Dmkn': 0.591472665149496, 'Uqcrfs1': 0.579109556643018, 'Cd46': 0.5780733676202573, 'Cfap43': 0.5769012217154359, 'Obfc1': 0.5768952190605361, 'Zbed3': 0.5729579165916028, 'Cfap44': 0.5726372222229074, 'Casc1': 0.5690957872419493, 'Arvcf': 0.5671551055914668, 'Mapk3': 0.5657205365938437, 'Spata18': 0.5626069709621423, 'Ltbr': 0.5595464564175074, 'Rhobtb1': 0.5567291880992461, 'Map3k3': 0.5561155590301279, 'Nek5': 0.5514478851138641, 'Tube1': 0.5433555330606107, 'Wrnip1': 0.5420602811065409, 'Hbp1': 0.5395757308972616, 'Galnt10': 0.5388700478786832, 'Ccpg1os': 0.53621849605877, 'Hid1': 0.5334821711917804, 'Lingo3': 0.5258321955353861, 'Fign': 0.51899637324665, 'Ubl4a': 0.5171771129067426, 'Fkbp5': 0.5147194898396837, 'Dusp18': 0.5057448971660972, 'Gba2': 0.500531474332175, 'Amt': 0.4984730815362214, 'Amot': 0.4968309382933812, 'Gm13546': 0.49467770078144535, 'Lrrc4': 0.49251072016226666, 'Pno1': 0.4870686462431338, 'Bbip1': 0.475008411160228, 'Larp4b': 0.46626010507364446, 'Gpr183': 0.46559162731964676, 'Txn1': 0.46081054593131654, 'Tor1aip2': 0.4587159899572676, 'Ppa2': 0.4550973055394442, 'Asah1': 0.4504518231161172, 'Gtf3a': 0.44788559891919444, 'Tmem106a': 0.4435314394896603, 'Btk': 0.4369601365857706, 'Gpr156': 0.43369582421043334, 'Stmnd1': 0.43200642684119234, 'Snrpb2': 0.43183425892753424, 'Lrrc2': 0.4273471191528204, 'Morn3': 0.4249104204559614, 'Wwc1': 0.4107076212632402, 'Cyp2j12': 0.40948253739870555, 'Gm2415': 0.4079242647503232, 'Kbtbd11': 0.40688108447955784, 'Sowahc': 0.40649871382724145, 'Lsm8': 0.4046004278982416, 'Idh1': 0.3983776916278114, 'Nfix': 0.39349423663485494, 'Dse': 0.38948069030538435, 'Tmem206': 0.3890205856479758, 'Olfm4': 0.3887808104109637, 'Vamp8': 0.386874162691985, '1810024B03Rik': 1.0}>, gene2occurrence=<frozendict {}>, transcription_factor='1810024B03Rik', context=frozenset({'activating', 'weight>75.0%'}), score=0.0, nes=0.0, orthologous_identity=0.0, similarity_qvalue=0.0, annotation=''),\n",
       " Regulon(name='Regulon for 2010315B03Rik', gene2weight=<frozendict {'Diras2': 7.146246000909806, 'Toporsos': 5.727857404850629, 'Dnal1': 5.362127871766169, 'Zfhx2': 5.280186364093435, 'Iltifb': 5.197727513686153, 'Krcc1': 4.988860676427028, 'Rhof': 4.933092838002674, 'Fam49a': 3.7359958757570606, 'Ccr5': 3.5298775868112626, 'Dcun1d4': 3.1500404759304055, 'Hcn1': 2.9637231178966856, 'Slc16a11': 2.8871849797177296, 'Zic3': 2.8675168281316847, 'Tmem209': 2.779515730688216, 'Klhl29': 2.7633952247796576, 'BC030500': 2.618753519872226, 'Rcl1': 2.519389706208726, 'Ccdc15': 2.48347828241927, 'Syt5': 2.3863255623671304, 'Hnrnpdl': 2.3836748700882375, 'Adgrg6': 2.237968412913506, 'Tsga10': 2.206617866878749, 'Rbm18': 2.201215256424569, 'Galnt13': 2.17987578570516, 'Fam20a': 2.1396849351199103, 'Vps9d1': 2.007848685542454, 'Kif9': 1.9944188690293658, 'Jag2': 1.9646783793463285, 'Camk2d': 1.8869324494831934, 'Ddx26b': 1.8789540826659508, 'Ska2': 1.8382644488658804, 'Cpne9': 1.8290326209862617, 'Sorcs2': 1.8018002152113, 'Fam160b1': 1.7602706896396096, 'Gria1': 1.7427352444197286, 'Lhx1os': 1.7249164768318845, 'Pnpla7': 1.700835909134463, 'Cd27': 1.664100556356857, 'Rsrc1': 1.623746413996754, 'Fes': 1.5910387427888288, 'Lsm14b': 1.5876101360702193, 'Fam207a': 1.570535723635798, 'Socs4': 1.5692218671418372, 'Tgs1': 1.5637957508894464, 'Eme2': 1.525652403379832, 'Nfe2l1': 1.5094782049311077, 'Slc39a8': 1.451921970341169, 'Lix1l': 1.420179535789864, 'Ggn': 1.417332613018881, 'Kcnma1': 1.4111372305287884, 'Nol4': 1.3976145706957133, 'Add2': 1.39391800701602, 'Lrrc51': 1.3931986507097105, 'Gm684': 1.380630391888041, 'Dhx29': 1.3765595824486179, 'Apba2': 1.3757833834003714, 'Sf3b1': 1.3545042532087177, 'Stat6': 1.3480157642135122, 'Gm16105': 1.3311231041580907, 'Tmem106c': 1.3308295304725495, 'Cbx2': 1.330050070570756, 'Ccdc162': 1.3133754605285244, 'Ssr1': 1.2384694246824137, 'Zc3h6': 1.213300037013048, 'Gm17322': 1.2104463220447181, 'Reps2': 1.2030788196576043, 'Tmem126a': 1.1916186257492245, 'Cda': 1.1888371807922236, 'Clip4': 1.1872018866289502, 'Lrp11': 1.184401282234935, 'Snta1': 1.0925185539592768, 'Kcnq2': 1.0884891873881029, 'Adora2b': 1.071569362376328, 'Ppp2r4': 1.0640022260368713, 'Slc33a1': 1.0381375963410682, 'Scaf1': 1.0368341527888094, 'Gpr157': 1.0316889345272113, 'Jakmip1': 1.0257980646036131, 'Atcay': 1.021766480372582, 'Dpcd': 1.0206190975626273, 'Ate1': 1.0134710564052687, 'Dpf2': 1.0012581534851235, 'Rnpep': 0.9906121297797816, 'Nudcd3': 0.9783881430940254, 'Gstm5': 0.9550214504593235, 'Ak6': 0.9464479088596292, 'Chn1': 0.9406207095243756, 'Mgat5b': 0.9384828131367603, 'Agtpbp1': 0.9309752481265828, 'Pmepa1': 0.928258024195362, 'Ispd': 0.9153359044852969, 'Hdlbp': 0.9067786540674307, 'Gm9803': 0.9033054334292889, 'Rab3b': 0.8998137373609644, 'Ttf1': 0.8929212612028373, 'Isca2': 0.8853272197527412, 'Eno1': 0.8768497132359976, 'Rnf168': 0.8492050609926725, 'Rimkla': 0.8459057406351553, 'Zmat4': 0.8457640887577372, '4921507P07Rik': 0.8247922070243233, 'Pak2': 0.8120919560307608, 'Rnmtl1': 0.8112944222575059, 'Slc7a4': 0.8040853508558322, 'Cdk9': 0.801277419742552, 'Gsta4': 0.7999650328309199, 'Kif5a': 0.7974976878200714, 'Smyd5': 0.7905975762418964, 'Ppp1r17': 0.7884816528178428, 'Paqr6': 0.7859535534588474, 'Dcaf15': 0.7859311928250972, 'Mat2b': 0.7828108056630854, 'Dmd': 0.7802783258752206, 'Has1': 0.7747736989368592, 'Ikzf2': 0.7711450784729106, 'Cyfip1': 0.7548876195841151, 'Ppm1l': 0.7533258655462526, 'Cdh15': 0.7497417911973271, 'A830018L16Rik': 0.7324631989980205, 'Pdrg1': 0.7309965644164943, 'Acaa2': 0.7234897681767934, 'Hyal2': 0.7213498470581513, 'Slc25a25': 0.7128614996993135, '0610010F05Rik': 0.7115471289264412, 'Unkl': 0.7095881255534455, 'Tbcc': 0.7081618767559259, 'Akap5': 0.6877885026330283, 'Asb3': 0.6864554270959183, 'Gtf2h2': 0.6837748641323164, 'Cnot4': 0.6797795990475686, 'Zdhhc6': 0.6785688223190158, 'Zfp324': 0.6775730619832208, 'Ssbp2': 0.6773468606289257, 'Dtx3': 0.6723018429818773, 'Ano7': 0.6633143522483625, 'Grem1': 0.6631194942127978, 'Cmc1': 0.6564586203960745, 'Trhr': 0.6524990394928106, 'Dhcr7': 0.6521406776539932, 'Nifk': 0.6432958125644752, 'Itga9': 0.6415103786756761, 'Cstf3': 0.640443734082719, 'Mipep': 0.6389924988901072, 'N4bp2l2': 0.6372571396001021, 'Myo5b': 0.6352215537530161, 'Jakmip2': 0.6350245150991881, 'Gm43653': 0.6258304867894243, 'Srrm4': 0.6233416969849609, '4930555F03Rik': 0.6203213062583713, 'Mgat1': 0.6189460691450211, 'Fgf2': 0.6115275525288191, 'Grin2b': 0.6111990675161547, 'Eml4': 0.606476008961911, 'Rnd1': 0.6012444115938848, 'Coa6': 0.6002263448376062, 'Fmn2': 0.5999279788793122, 'Matk': 0.5977002658280637, '9330171B17Rik': 0.5919279428877035, 'Csmd2': 0.5846836946587687, 'Gpr68': 0.5841164588280318, 'Thbs3': 0.5778169608226735, 'l7Rn6': 0.5759081426332986, 'Zcchc7': 0.5711030927578568, 'Ccdc73': 0.5710198198934793, 'Fkrp': 0.5706178963851685, 'Fam174b': 0.570479583564055, 'Dennd2d': 0.568614211138973, 'Tmem178b': 0.566615167943661, 'Ngef': 0.5638296056772858, 'Gm5083': 0.5607378386097319, 'Exosc1': 0.5598356256714685, 'Ap3m2': 0.5574895721698642, 'Rab27b': 0.5541274394019964, 'Ky': 0.5484645790615945, 'Kdsr': 0.5465612708129065, 'Tpmt': 0.5450999719495724, 'Lrrc55': 0.5395027622154333, 'Nsmf': 0.5343148840972227, 'Prpf40b': 0.5274695706471605, 'BC026585': 0.5273177395672032, 'Pdzrn4': 0.5257210342609526, 'Pxmp2': 0.5252404018314857, '3222401L13Rik': 0.5246800345118722, 'Zeb2os': 0.5233863772877967, 'Gm26902': 0.5194964747528125, 'Rpp30': 0.5185732158193262, 'Madd': 0.5178573802515495, 'Gcat': 0.5167645142617633, 'Gm21887': 0.5151750666167739, 'Synpr': 0.5148366388341925, 'Dnmt3a': 0.5142462154266626, 'Pcdhb2': 0.511191184780823, 'Mbip': 0.5088024216716931, 'Adcy9': 0.5056411415368196, 'Maf': 0.5055816555594467, 'Adhfe1': 0.5052439847103474, 'Rrp8': 0.503998156105708, 'Gmpr2': 0.5033212378811578, 'Mospd3': 0.5022826504119251, 'Fam198a': 0.5013392029812649, 'Gtf3c3': 0.49836220254910885, 'Ptx4': 0.4952490251774909, 'Iqcb1': 0.4908836562616433, '2610042L04Rik': 0.49039910369825124, 'Dync1h1': 0.48988035156582044, 'Sar1b': 0.48892526715611656, 'Prdm16': 0.4868878529552462, 'Zfp493': 0.48609552432535513, 'Gm15337': 0.4849873790140746, 'Eea1': 0.4840997338646158, 'Sdad1': 0.4828194866578887, '1700007K13Rik': 0.47921612442388256, 'Casd1': 0.47656823557043027, 'Fam181a': 0.471722928955043, 'Dtna': 0.4703030875977897, 'Sdsl': 0.4687318780817272, 'Nck1': 0.468710725063323, 'Crocc': 0.46690845465955566, 'Pcyt1b': 0.46637654677016777, 'Slc12a9': 0.4639007361030749, 'Il13ra1': 0.4619487627387766, 'Sdk2': 0.45998333078132414, 'Cgref1': 0.45540129205532687, 'Ranbp6': 0.45301817830533614, 'Gm43570': 0.4503130581390874, 'Nkrf': 0.44370734388562705, 'Il6st': 0.4428211015527672, 'Cd47': 0.43337482148368556, 'Dgkb': 0.43228298406469695, 'Nutf2-ps1': 0.4257092306700265, 'Fam109b': 0.42556118135120385, '2700029M09Rik': 0.42377651549541173, 'Irgm2': 0.4222796690074708, 'Lars2': 0.41880273372142574, 'Smim12': 0.41756825925618474, 'Nt5m': 0.4165026261012529, 'Ankrd6': 0.41639195014980585, 'Cntnap5a': 0.4153549729640316, 'Aqp9': 0.414336648176139, '2700033N17Rik': 0.41401585315823264, 'Chmp2a': 0.4133896050905486, 'Adgra1': 0.41163913145511905, 'B4galt6': 0.4109200803104943, 'Sulf1': 0.4049656236176872, 'Zfp869': 0.40074861171718174, 'Prpf4b': 0.3969608303877606, 'Gm2061': 0.3968581857414729, 'Ccdc106': 0.3941472141943395, 'Tox3': 0.3938667772208513, 'Gpatch1': 0.39142398550255797, 'Fgfr3': 0.38968450264081933, 'Tceal6': 0.3827797774263728, '2010315B03Rik': 1.0}>, gene2occurrence=<frozendict {}>, transcription_factor='2010315B03Rik', context=frozenset({'activating', 'weight>75.0%'}), score=0.0, nes=0.0, orthologous_identity=0.0, similarity_qvalue=0.0, annotation=''),\n",
       " Regulon(name='Regulon for 2310011J03Rik', gene2weight=<frozendict {'Scarb2': 4.6821612485780255, 'Tmem199': 3.8382031468347115, 'Snca': 3.699832901138323, 'Bub3': 3.487619511939445, '9530077C05Rik': 3.1636800332153094, 'Map2k2': 3.0655420596231666, 'Phf5a': 2.887398316136969, 'Tmem178b': 2.7117475948497285, 'Hnrnpa3': 2.6317136793018348, 'Commd8': 2.3233499745899238, 'Smim19': 2.3127026251574576, 'Mcfd2': 2.3114653688511653, 'Prelid1': 2.289707288456279, 'Coq2': 2.2588683110860495, 'Sptssa': 2.1795566136667563, 'Hopx': 2.036458496887957, 'Atox1': 2.021608989411696, 'Wdr45': 1.999822355985674, 'Pttg1': 1.9895970692770997, 'Pcyt2': 1.8595157502451467, 'Mrpl40': 1.8424180528199452, 'Zdhhc14': 1.8262665385301946, 'Prlhr': 1.8244606970512551, 'Dohh': 1.7563641865916606, 'Psma5': 1.7499699253588465, 'Pdcd5': 1.7416617732946738, '2700094K13Rik': 1.6951985060846448, 'Dazap2': 1.6814521798017947, 'Acot7': 1.6457131701103436, 'Myo1d': 1.5857985445418816, 'Rab4b': 1.5687707563432014, 'Nudt3': 1.5594498977420244, 'Fkbp3': 1.5178796840708981, 'Unc45b': 1.5153480067812872, 'Saysd1': 1.5037683150567258, 'Eif4a2': 1.4968725709429378, 'Eed': 1.488280371946011, 'Echs1': 1.4708194217899733, 'Pfdn6': 1.4588362108485082, 'Lpar1': 1.448200235979911, 'Sypl': 1.42581651417852, 'Rnf121': 1.3877661867774005, 'Fkbp4': 1.3862024900860266, 'Eif5': 1.3811156239446125, 'Ndufa8': 1.3615252506354432, 'Zfp91': 1.3595674667555366, 'Ncoa3': 1.3447604189560363, 'Commd9': 1.2960829706627528, 'Gpr101': 1.2907377167127252, 'Borcs5': 1.289065258732456, 'Psmc3': 1.256064848955145, 'Them6': 1.2471131167420262, 'Rax': 1.2425555915822064, 'Mthfd2': 1.2235941274319022, 'Zfp771': 1.2143794970998185, 'Tada2a': 1.1831721289964425, 'Ociad1': 1.1590175854397546, 'Pcolce2': 1.1494039846040354, 'Gcat': 1.131784883947401, 'Clpp': 1.1076443430437755, 'Nudt14': 1.0939340991507487, 'Cpox': 1.0909637791625593, 'Gpn2': 1.0823672782320075, 'Mrpl13': 1.0773817273183208, 'Klk6': 1.077131241449333, 'Plin3': 1.0758576439993226, 'Akr1a1': 1.0758452213008696, 'Git1': 1.061859324261322, 'Ndufs2': 1.0593968396995115, 'Nutf2': 1.057313929769397, 'Apoa1bp': 1.044330818965336, 'Mtx2': 1.0441210326601718, 'Gm16183': 1.031339180012853, 'Tm2d1': 1.0300613206950022, 'Ube2d2a': 1.021956634486902, 'Pea15a': 1.0216593884379384, 'Bola2': 1.018283410318677, 'Chmp2b': 1.0156998471553202, 'Immt': 1.0115762030208335, '1700063D05Rik': 1.000709495646038, 'Il2': 0.9895531066217825, 'Dnajc3': 0.9870703323313487, 'Ssr2': 0.9610065000899302, 'Tmem160': 0.956508199756666, 'R3hcc1': 0.9506478797315573, 'Slpi': 0.9458239426661232, 'Ech1': 0.9443645857015396, 'Mrpl14': 0.9429984784131981, 'Cabp7': 0.9403920567622179, 'Tcf19': 0.9357095482539206, 'Eps15': 0.9347384720779651, 'Taf10': 0.9321660902772053, 'Adh5': 0.9260745431099665, 'Pithd1': 0.9247722493496987, 'H1f0': 0.9181922445923784, 'Cyp2j12': 0.9171028974416384, 'Rexo2': 0.9078115146120803, 'Phf23': 0.8895799627653757, 'Larp6': 0.8878155948594988, 'Fhl4': 0.8850567854950192, 'C1qbp': 0.8823818552512264, 'Csnk2b': 0.8821030111474815, 'Acy3': 0.8804863180605544, 'Dnajb2': 0.8736607277475165, 'Krcc1': 0.8725700570576918, 'Gbas': 0.8700703102557672, 'Nipsnap3b': 0.8674353331865726, 'Psmc4': 0.86520238324032, 'Nkiras1': 0.8596692795268853, 'Lsm4': 0.8552598181426809, 'Mydgf': 0.8527647426729524, 'D7Ertd443e': 0.845061929002176, 'Pcmt1': 0.8449264134088105, 'Emc10': 0.8181797403716721, 'Cdk2ap1': 0.8155386144754275, 'Commd1': 0.8142533885351309, 'Pla2g16': 0.8112731929857764, 'Fundc1': 0.8057161328159627, 'Pink1': 0.8033809386317337, 'Zdhhc9': 0.7922595486759442, 'Gins4': 0.7891683193336383, 'Nkx2-9': 0.7882980174509365, 'Snx17': 0.7842495748710299, 'BC035044': 0.7798612129409175, 'Mpc1': 0.7722551483734036, 'Cyhr1': 0.7703377107383159, 'Tmem125': 0.7699968890167908, 'Dnajc7': 0.7681350647367718, 'Ndufb4': 0.7680395920826729, 'Prr5l': 0.7607491320854382, 'Mien1': 0.7541275898298697, 'Shisa8': 0.7538992261264004, 'Psph': 0.7447769508139139, 'Klrc1': 0.7421094275623044, 'Hcfc1r1': 0.7397935743382099, 'Ninj2': 0.732790059647316, 'Mrpl18': 0.7324178563502752, 'Nipa1': 0.7314749204376543, 'Sh3glb1': 0.7274938434341152, 'Actr1a': 0.7159633344481225, 'Csnk1e': 0.7131993074042795, 'Gm26843': 0.7120683258337251, '1500035N22Rik': 0.7065384852549419, 'Arid4b': 0.7022590295617999, 'Fntb': 0.7017587954950533, 'Gss': 0.7009342783230313, 'Clic4': 0.7002418856270637, 'Aip': 0.6964304254349157, 'Trmt112': 0.6864926442921937, 'Trim3': 0.6849263134120745, 'Phc2': 0.6835986074881543, 'Sgce': 0.6790046323857952, 'Sgta': 0.6779184154160354, 'Rhoa': 0.6760215729316958, 'Dync1li1': 0.6751640077975943, 'Pfdn4': 0.674342609858314, 'S1pr5': 0.6683952530749043, 'Rpp21': 0.6680554599268106, 'Ube2b': 0.6623476594665415, 'Phf20': 0.6603345998959239, 'Ccdc13': 0.6591791855010676, '1700047M11Rik': 0.6590880598527109, 'Psmc5': 0.6506138284461084, 'Fam50a': 0.6492628924112791, 'Lzts2': 0.6468689125400993, 'Atp6v1e1': 0.6439895647902327, 'Glo1': 0.6438603948274327, 'Polr3e': 0.6436036748888364, 'Ube2d1': 0.6402429774387034, 'Enoph1': 0.6397767891998355, 'Slc6a9': 0.639590616680074, 'Eif3m': 0.6265835157178677, 'Ttll5': 0.6190376340683416, 'Gltp': 0.614053173307846, 'Dusp26': 0.6057957170441176, 'Psmc6': 0.6038472114952411, 'Hsf5': 0.6032655976575015, 'Hapln2': 0.599365773528496, 'Acot1': 0.5974489531276902, 'Slc24a2': 0.5967150596358602, 'Dync1li2': 0.5964552933002732, 'Ace': 0.5863186353050988, 'Crym': 0.58582152624324, 'A230009B12Rik': 0.5857039828702425, 'Rpl28': 0.5811003955944445, 'Slc25a38': 0.5774394901751865, 'Rplp2': 0.5774358339461227, 'Zdhhc20': 0.5759044587092599, 'Commd2': 0.5728718115379551, 'Daam2': 0.5700919306119338, 'Spidr': 0.5670458450739043, 'Bax': 0.5667126674103488, 'Arhgap23': 0.5661512072772706, 'Pde6d': 0.5601664018704329, 'Cpm': 0.5562761667921309, 'Fam84a': 0.5539099276789456, 'Mrpl28': 0.5516329092337339, 'Sstr3': 0.5516240104848674, 'Cdc42ep1': 0.5501881458575333, 'Dtnbp1': 0.545843176737395, 'Tkt': 0.5434786943469172, 'Fam13c': 0.543330823463232, 'Jagn1': 0.5403998245783944, 'Mgst3': 0.534830741769796, 'Rab29': 0.524800641854003, 'Spock3': 0.5239332755592361, 'Ocln': 0.5218038192159898, 'Ptpdc1': 0.5206186628750012, 'Drap1': 0.5202744536083668, '1110032A03Rik': 0.5199603303252288, 'Tceb1': 0.5183649785932898, 'Lpgat1': 0.5124529835303351, 'Cox7c': 0.5116090611815095, '2700029M09Rik': 0.5104120970019345, 'Rftn1': 0.5091174460123649, 'Vps16': 0.5052724514901302, 'Amn1': 0.5050932856793543, 'Prdx3': 0.5028598415031497, 'Med28': 0.4995515968855998, 'Krtcap2': 0.4989582876155683, 'Reep3': 0.49667208086836684, 'Bloc1s5': 0.49437849686465973, 'Tmed3': 0.4934341630801756, 'Pepd': 0.4931896964858284, 'Supt16': 0.49086335580579077, 'Gpr62': 0.4898890672171479, 'Inf2': 0.4889823336245953, 'Tiprl': 0.4888848489933376, 'Tmem120b': 0.48882294064136717, 'Wdr36': 0.4882618946016721, 'D16Ertd472e': 0.4877208041236996, 'Rrp7a': 0.48600008337188705, 'Ggct': 0.4854875159117339, 'Tprn': 0.4846641011219877, 'Cdhr2': 0.48435215997816133, 'Cope': 0.48127942488513475, 'Mtf1': 0.4805947848962634, 'Wnt3': 0.4785366010085973, 'Pak1': 0.47597748504947246, '2310033P09Rik': 0.47574649008351344, 'Rbm3os': 0.47294761394867085, 'St13': 0.4699027990705753, 'Ppp1ca': 0.4659517543523861, 'Eif2b2': 0.465713997965853, 'Snx4': 0.46455969443368894, 'C8g': 0.4561629268396394, 'Cript': 0.45513455245892137, 'Eml1': 0.4549083654175412, 'Gna12': 0.45327372149435924, 'Nenf': 0.45170242467666744, 'Apbb1': 0.4509230357220783, 'Pip4k2a': 0.44945865518180006, 'Gnai2': 0.4435414491040831, 'Atxn7l3b': 0.4434622520169133, 'Cbx1': 0.4404665952185977, 'Wbp2': 0.4401474258975526, 'Rps6': 0.4381590176264833, 'Trhr': 0.43482899548877774, 'Ubqln1': 0.4344936575391269, 'Hs3st1': 0.4336596336085926, 'Frmd8': 0.43278925114046557, 'Tnfaip6': 0.43141569039958516, 'Dnah14': 0.43037923691206526, 'Palm2': 0.42617827755669335, 'Dynlt3': 0.4231057088211688, 'Acat2': 0.42211070454130717, 'Lamtor1': 0.4215702595452954, 'Coq10a': 0.42084617018924575, 'Nkap': 0.4200460583227886, 'Suds3': 0.4198313189962499, '2410004B18Rik': 0.41926208328676023, 'Grpr': 0.41673068726672785, 'Vdac2': 0.4138205639398873, 'Tmem234': 0.4116173797190489, 'Sh3kbp1': 0.41114792009034956, 'Usp8': 0.4104187927487162, 'Rab6b': 0.4103742896277151, 'Ybx3': 0.4046780170243053, 'Rhob': 0.4040942724851222, 'Nck2': 0.403736707323978, 'P3h4': 0.3980812436656548, 'Fbxo44': 0.39779899907543, 'Smarce1': 0.3953835486897338, 'Golga7': 0.394949224817499, 'Ddit4': 0.39492360421298217, 'Rnf146': 0.39357194321865807, 'Brms1': 0.39306209390346497, 'Psmb4': 0.3918674211370927, 'Ranbp1': 0.3880573649905427, 'Exog': 0.3873432902234822, 'D1Ertd622e': 0.38641585242061754, 'Pebp1': 0.38629627113801235, 'Ctsk': 0.38612287748736246, 'Rbm8a': 0.38552571975548827, 'Mrps36': 0.38426778005295853, '2310011J03Rik': 1.0}>, gene2occurrence=<frozendict {}>, transcription_factor='2310011J03Rik', context=frozenset({'activating', 'weight>75.0%'}), score=0.0, nes=0.0, orthologous_identity=0.0, similarity_qvalue=0.0, annotation=''),\n",
       " Regulon(name='Regulon for 2610044O15Rik8', gene2weight=<frozendict {'Sema4f': 17.200056792560577, 'Nudt16l1': 7.469495263401399, 'Gm42637': 4.172253655423803, 'Slc29a4': 3.952340676887945, 'Lhfpl5': 3.8571140104286052, 'Mau2': 3.779278091733723, 'Synrg': 3.5296819321974904, 'Fnta': 3.342901772892722, 'Dbil5': 3.1389702418360477, 'Dgkh': 3.112026765270743, 'Ergic1': 2.9281983759880763, 'Snapc3': 2.824672399192794, 'Ache': 2.809692813362696, 'Top2b': 2.803070661568073, 'Smim12': 2.7285225892184624, 'Rab6b': 2.6302580505259354, 'Glod4': 2.600292872666399, 'Fbxo10': 2.5561143431890265, 'Ip6k1': 2.530732442390537, 'Cd164l2': 2.4760724200294413, 'Ankrd46': 2.4730997526455987, 'Coq9': 2.4594355819562157, 'Wasl': 2.33241658880804, 'Myo18a': 2.3272630492449897, 'Fzr1': 2.2334518496953684, 'Cyp2j9': 2.2257502958082327, 'Arl1': 2.1357471426880728, 'Slc18a2': 2.1073044797073566, 'Rab26': 2.0904777234476013, 'Agfg1': 2.0523956860061845, 'Arl6': 2.0468292180571455, 'Slc25a16': 1.922480438457564, 'Art3': 1.9146656172701493, 'Nyap1': 1.896889537157373, 'Klhl23': 1.8777269280701971, 'Rsl24d1': 1.8455966650763094, 'Npy1r': 1.8446117240029913, 'Gjc1': 1.8372668152163003, 'Ifitm1': 1.8168577615637171, 'Snph': 1.7843359598782045, 'Khnyn': 1.7498774246981657, 'Tango2': 1.7035823658278058, 'Aff2': 1.6572562624089962, 'Airn': 1.6537281707712619, 'Otud5': 1.62265772101202, 'Cep170b': 1.5710524331417728, 'Npepl1': 1.5508854922599644, 'Nhsl2': 1.5046965641869998, 'Slc41a1': 1.471306251713893, 'Epc2': 1.4606136855288379, 'Slitrk3': 1.4562267619892821, 'Tsen34': 1.455490538885494, 'Pja2': 1.4477600507523716, 'Tle6': 1.4026352486484328, 'Gpr150': 1.388708973497065, 'Galnt16': 1.3619625083548617, 'Irgq': 1.3603984930464612, 'Trpt1': 1.3567008940267231, 'Trpc3': 1.3353244191644196, '2310036O22Rik': 1.3040583794709981, 'Scn2a1': 1.2969761385930842, 'Iqsec3': 1.294845819442893, 'Tuba8': 1.269348092096147, 'Arhgef15': 1.236850988981687, 'Gpatch4': 1.2289228533682668, 'Bcas2': 1.2087680148704665, 'Ppp3cb': 1.2066201936334466, 'Slc36a4': 1.1956012216003098, 'Zfp664': 1.1742717441987036, 'Myh7': 1.1727755217525058, 'Eno2': 1.1727144394559896, 'Actr3b': 1.157783394439226, 'B230217O12Rik': 1.1570454943558468, 'Cacfd1': 1.1455321293556946, 'Dhx57': 1.1156178806043757, 'Eva1b': 1.112257672323775, 'Pura': 1.0910444349327708, '4930500F10Rik': 1.082989505371824, 'Eif3m': 1.0682834533727859, 'Sncb': 1.05869392983273, 'Acat1': 1.03358256203579, 'Rnmt': 1.0113065678393662, 'Pcsk2os1': 0.9957326753824716, 'Nkain1': 0.990521782560706, 'Lamtor2': 0.9898894758026022, 'Xxylt1': 0.9888556813164153, 'Klhdc9': 0.985126930967753, 'Hpca': 0.9831644229986052, 'Lrrc8a': 0.97426399233755, 'Prcc': 0.9537069540448914, 'Mettl6': 0.9476058532641494, 'Drg1': 0.9408428676347925, 'Clstn2': 0.9398628765734665, 'Caskin2': 0.9386441270054448, 'Zmat1': 0.9359627685654832, 'Acot7': 0.9182893953629675, 'Htr2c': 0.9174112871768278, 'Astn2': 0.9052978297471198, 'Zic4': 0.9033946347094984, 'Fmn2': 0.9027321484455176, 'Grb10': 0.9010641308089609, 'Plxnb2': 0.9005337879572937, '2810001G20Rik': 0.8999178912497725, 'Timm21': 0.8976959952766072, 'Pold2': 0.8824571268928313, 'Oaz2': 0.8788261953067068, 'Pak3': 0.8665760294671169, 'Zim1': 0.8648731065493689, 'Ptcd2': 0.8605356678556052, 'Gad1': 0.8584677378631314, 'Unc119b': 0.8354325789274069, 'Gal': 0.8264543420369843, 'Kcnj8': 0.8250461207111569, 'Cluap1': 0.8183834641047412, 'Got2': 0.815895288151471, 'Fam210a': 0.8158124105020782, 'Mmadhc': 0.7984974755275378, 'Snx21': 0.7787923457784409, 'Gnpda2': 0.7753035995810472, 'Ankrd34b': 0.7715200914232706, 'Sdf2': 0.769952112742111, 'Miat': 0.7684026437556397, 'Atp6ap1l': 0.7607189825460853, 'Fdft1': 0.7555553547637759, 'Lrrc7': 0.7513303160051887, 'Cenpl': 0.7479608700842961, 'Tvp23a': 0.7450457017447255, 'Sept6': 0.7316289528870549, 'Lpcat1': 0.7313945517722946, 'Mrps21': 0.7221363808656593, 'Rerg': 0.7173105912451259, 'Cxxc4': 0.7117295184878099, 'Zcchc18': 0.7096790889657785, 'Orc2': 0.7039151237723917, 'Cabin1': 0.6988579837018516, 'Gtf2h5': 0.6946565284627699, 'Zcchc14': 0.6921040100142274, 'Ncoa2': 0.6804508635447875, 'Sapcd1': 0.677374587842814, 'Yeats2': 0.6654647517934438, 'Acin1': 0.6637086521663615, 'Dmrta2': 0.6575419716927383, 'Fam114a2': 0.6528767039277649, 'Rab2b': 0.6473955146818793, 'Ndst4': 0.6448825872959614, 'Mrpl43': 0.6445143559762858, 'Spsb3': 0.6433338329030444, 'Add2': 0.6332273132001557, 'Ttc34': 0.6328771571313087, 'Inpp4a': 0.6327312675424656, 'Arhgap27': 0.6323554943929989, 'Scmh1': 0.6321624628962913, 'Csrnp3': 0.6288359810007368, 'Arhgap36': 0.6254579195350128, 'Cutc': 0.6243918715720569, 'Cnot6': 0.6207014610029948, 'Pdzd7': 0.6181930173723496, 'B430219N15Rik': 0.6122480948167703, 'Tcf25': 0.6118827235705919, 'Nfib': 0.6116770758893179, 'Rnf144a': 0.6109822450721083, 'Tram1': 0.6092948734236477, 'Fbxl5': 0.608243570530795, 'Kcnmb1': 0.6071011080905199, 'Stard4': 0.6062179029807354, 'Zfp580': 0.6034778438469793, 'Fam57b': 0.6028409198580746, 'Dlx6': 0.5943064002597946, 'Lrrc16a': 0.5934437884797857, 'Rsl1d1': 0.5905316962092346, 'Rem1': 0.5886375269034629, 'Dnlz': 0.5843755595964213, 'Spryd3': 0.5823875833366509, 'Klhl7': 0.5741460889529201, 'Sez6': 0.5738216651887403, 'Abr': 0.5730708819915031, 'Cds2': 0.5670574398914155, 'Pcx': 0.5596644759005692, 'Arhgap10': 0.5531750114103151, 'Efcab1': 0.552533052744479, 'Chn1': 0.5498928216480056, 'Lrrtm4': 0.5463017207210316, 'Gm6710': 0.5462242486661443, '4732440D04Rik': 0.5450199726418766, 'Pcsk1': 0.5443761502168, 'Gm15624': 0.5436270945279571, 'Prep': 0.5382387361564224, 'Rbm12b1': 0.5381268502910912, 'N4bp2l1': 0.5369126832091712, 'Cdk2ap2': 0.5354081451963166, 'Med10': 0.5344715897795063, 'Npdc1': 0.5282715375552772, 'C530050E15Rik': 0.5278452892763358, 'Ppp1r11': 0.5252705263692273, 'Kpna1': 0.519933395834715, 'Ddn': 0.517684009297787, 'Cipc': 0.5176657424355742, 'Brix1': 0.5149157745521945, 'Atl1': 0.5148193589625615, 'Romo1': 0.5143494996573466, 'Mtif3': 0.5140898064626697, 'Pdpk1': 0.51013065475022, 'Stk11': 0.5082471536402459, 'Zfp219': 0.50512350992939, 'Hpcal1': 0.4973930882556586, 'Ptbp2': 0.49300211582193154, 'Tpp2': 0.49236219103384377, 'Reep1': 0.4923049733050092, 'Cntfr': 0.49202018725588614, 'Phf20': 0.4909881691069059, 'Gcnt4': 0.48869753287845447, 'Fhl2': 0.48698127952276715, 'Zfp386': 0.4848418095431321, 'Ppm1k': 0.48408643585732747, 'Dcaf7': 0.4807526817909319, 'Cadps2': 0.4798984314537041, 'Mtnr1a': 0.47911174773664694, 'Sdhb': 0.47661082329176574, 'Txlng': 0.4721339962181504, 'Chpf': 0.4698782496286543, 'Isy1': 0.4696097566008033, 'Dnah7a': 0.46831670100418543, 'Vstm4': 0.46806785103291115, 'Pcdh19': 0.4610040276601275, '2210408I21Rik': 0.4597190883205239, 'Lrrc4b': 0.4570976031690424, 'Rmnd5a': 0.45295852141640325, 'Gcsh': 0.45087812926703086, 'Ankrd34a': 0.44777112980109596, 'Gpr12': 0.4471793162196541, 'Gmfb': 0.4419674917853051, 'Med29': 0.44090173338501415, 'C1qbp': 0.43982534302020404, 'Rtcb': 0.4392205775075785, 'Fitm2': 0.4391420507031464, 'Hps4': 0.4348905688567856, 'Mturn': 0.4338907336581941, 'Endog': 0.432809217165981, 'Lrrc24': 0.4318149362870994, 'Mal2': 0.4308463355969785, 'Trp53rka': 0.4289590486126081, 'Tbcc': 0.42876424165982546, 'Gm20628': 0.42660050967082985, 'Pigx': 0.4257282166094886, 'Zfp326': 0.42056036587506107, 'Barx2': 0.4187292312462358, 'Dirc2': 0.4181598025776536, 'Kcnq2': 0.41670044903775627, 'Ncoa7': 0.41586432458432676, 'Ocrl': 0.4157322406926355, 'Numa1': 0.41412661938926, 'Itga9': 0.4137673751741563, 'Shank1': 0.41238798039080166, 'A330008L17Rik': 0.4112983682053245, 'Bpnt1': 0.410255593087448, 'Lix1l': 0.40923982772609857, 'Otp': 0.40826006468685844, 'Tomm40': 0.40738824231032444, '5730559C18Rik': 0.40573360658435736, 'Lgi2': 0.4051755970353936, 'Tfam': 0.4045226717556726, 'Zfp608': 0.40422530057856976, 'Scn8a': 0.4035929825873442, 'Cdh10': 0.40236705673476, 'Lmo1': 0.40184899031840465, 'Pdap1': 0.39909643712311793, 'Becn1': 0.3930719473303705, 'Bnip1': 0.38999034117233145, 'B230334C09Rik': 0.38769350804123065, 'Mkln1os': 0.386284221195925, 'Fancd2': 0.38556913692829536, 'Setd1a': 0.38497948838221496, 'Sema5b': 0.3847619305077411, 'Arf5': 0.38424105901471534, 'Sptb': 0.3836339303326518, 'Cyb5r3': 0.38202192759080783, 'Nudt10': 0.3817640772549624, '2610044O15Rik8': 1.0}>, gene2occurrence=<frozendict {}>, transcription_factor='2610044O15Rik8', context=frozenset({'activating', 'weight>75.0%'}), score=0.0, nes=0.0, orthologous_identity=0.0, similarity_qvalue=0.0, annotation=''),\n",
       " Regulon(name='Regulon for 2810403A07Rik', gene2weight=<frozendict {'Yjefn3': 4.383735563670659, 'Ensa': 4.086219258210704, 'C2cd4d': 3.5846418738559436, 'Smpd3': 3.4766052120152655, 'Kcnn2': 3.2402112979800526, 'Scn1a': 3.1867360299104566, 'Camk1g': 2.6906425324103482, '4930447C04Rik': 2.646616877803296, 'Mrpl55': 2.4907353149499785, 'Pcdh7': 2.43026487825492, 'Adgrb3': 2.4163171671054022, 'Golga1': 2.412484883912952, 'Scaper': 2.3806817368717414, 'Cep57': 2.336378895670949, 'Atg9b': 2.3075918248675804, 'B830012L14Rik': 2.2077023143668524, 'Btbd11': 2.1646275861701345, 'Pim2': 2.1139618646231972, 'Unc13c': 2.097041877804267, 'Ephb6': 2.0661828748299174, 'Rgs20': 2.0332610829694255, 'Gm27030': 2.024973610881402, 'Nav1': 1.8652486174728249, 'Hnrnpul2': 1.750522229226862, 'Sgcz': 1.7297685545793466, 'Kcnj11': 1.720373798582681, 'Adarb2': 1.6664796205241295, 'Rab9b': 1.6033465087539354, 'Cacna1h': 1.598266660404673, 'Abcf2': 1.5437965543979828, 'Golim4': 1.5221211583423673, 'Pid1': 1.5104933429247134, 'Stau2': 1.4948986514535423, 'Fosl1': 1.4502066143095538, 'Dennd2a': 1.4337348592090116, 'Cep44': 1.4126700488293689, 'Vps13a': 1.39969573479907, 'Gm13139': 1.3805537229996163, 'Slx1b': 1.3753612284163248, 'Smpd2': 1.325326133522486, 'Il1rapl1': 1.3195531155075617, 'Zfp809': 1.3066865486486432, 'Ncam2': 1.2946742375218783, 'Lonrf2': 1.2782268148950844, 'Dtx1': 1.2656907106055073, 'Slc13a5': 1.235171108725415, 'Sgsm1': 1.2095620945741739, 'Tmem198b': 1.1964162464553632, 'Myo10': 1.1876215294769945, '3010026O09Rik': 1.142008935460844, 'Mrps5': 1.1366692050713048, 'Camk2a': 1.1321969271662289, 'Clspn': 1.1172298584114029, 'Dzank1': 1.10008674837473, 'Ubn2': 1.0804083889198584, 'Uhrf2': 1.0802738642523435, 'Chfr': 1.0337270388438686, 'Ep400': 1.0223280008171567, 'Nudcd3': 1.01851879994128, 'Crebl2': 1.017508721410691, 'Fnbp1l': 1.0098671976695792, 'Ndufaf3': 0.9892717129807601, '2610524H06Rik': 0.9627441504637713, 'Zer1': 0.9592803776781924, 'Hebp2': 0.9492408063088249, 'Klhl22': 0.9300741717574924, 'C1qtnf4': 0.9222421587848263, '5330417C22Rik': 0.9050341050152513, 'Ranbp9': 0.8881631457433748, 'Mei4': 0.8869372363546731, '2610035D17Rik': 0.8726031477276326, '9630001P10Rik': 0.8626959175942046, 'Gal3st3': 0.858999701233309, 'Nmrk1': 0.8574662969476744, 'Lamtor3': 0.8495611844072084, 'Thyn1': 0.8473341137799012, 'Pank1': 0.8343910313360309, 'Rnf180': 0.8255143971997613, 'Rph3a': 0.8226289889749508, 'Kcnq1ot1': 0.8219092981749226, 'Nnmt': 0.8126773534473173, 'Dhcr24': 0.7943072300657001, 'Fam184b': 0.7827087141189149, 'Klhl9': 0.7816211470995564, 'Fsd1l': 0.7682855964308926, 'Gtf3c2': 0.7566604149468735, 'Zfp326': 0.7529359818535982, 'Ptpro': 0.7336029948619174, 'Oscp1': 0.7324252191610079, 'Lpin2': 0.7243080879953296, 'Ccl19': 0.7120343738405541, 'Usp33': 0.7000078467967705, 'Zfpm2': 0.6987515884103633, 'Phyhip': 0.6808509772683873, 'Uhrf1': 0.6799973524686913, 'Zfp605': 0.6677570832403299, 'Abhd3': 0.6672437016054459, 'Sigmar1': 0.6617403031253254, 'Zfp853': 0.6556609487510433, 'Rrnad1': 0.6520885636173347, 'Nwd1': 0.6356084605332776, '2210008F06Rik': 0.6243601615178991, 'Tgds': 0.6214761412415161, 'Ddx55': 0.6184517545647785, 'Brinp3': 0.615371776220866, 'Gm26699': 0.5947069313104226, 'Kif5c': 0.5759631286864864, 'Nim1k': 0.5715544192620374, 'C530008M17Rik': 0.5656618504617817, 'Gm30731': 0.5644298862748635, 'Frrs1l': 0.5534539415327918, 'Celsr2': 0.5488394506472424, 'Nrxn3': 0.5394891943573195, 'Kcnh7': 0.5355473407790854, 'Asic2': 0.5342375733010888, 'Gm27217': 0.5210844404375607, 'Mia': 0.5125223995397622, 'Sh3gl2': 0.5090077150070094, 'Lrch2': 0.5061412447706855, 'Chrm5': 0.5021012834882046, '1700030C14Rik': 0.5013776769859517, 'Cntfr': 0.5006195873622393, 'Cacna1a': 0.5001050918175352, 'Kidins220': 0.49795006181736834, 'Dync2h1': 0.494631792838667, 'Opcml': 0.4904346116005172, 'Yme1l1': 0.486621658780738, 'Tmem121': 0.4848369570714975, 'Ank2': 0.4833989281250138, 'Cntnap4': 0.4813178284691289, 'Msh5': 0.4765089738658127, 'Ndufa8': 0.4747184588484224, 'Hs2st1': 0.4736008681913669, 'Cdh10': 0.46991388030991965, 'Calb2': 0.46917600792138103, 'Hat1': 0.4653085566477723, 'Mycl': 0.46369261316209426, '5430421N21Rik': 0.456763245062361, 'Syt16': 0.45361013887491847, 'Crhr2': 0.44810856376322206, 'Ret': 0.44487274813250954, 'Bend7': 0.44414250977619457, 'Gm15991': 0.44389362999428605, 'Gm16740': 0.44309481607659723, 'Bcat1': 0.43985291857068926, 'Rnf219': 0.4312808389344611, 'Gtf2h3': 0.4301648653181915, 'Nceh1': 0.4197212855079989, 'Dusp18': 0.41499518018423315, 'Plpp5': 0.41155693295589274, 'Tia1': 0.4102135684356376, 'Brd4': 0.4056527314602984, 'Prrg3': 0.40187761583727594, 'Nck2': 0.40078065960377285, 'Epor': 0.39964572943310117, 'Vat1l': 0.3994893149152446, 'Gmps': 0.39408572683280185, 'Ttll1': 0.3938448987449972, 'Bbof1': 0.388106587645112, 'Itpr1': 0.38582302725376805, 'Nus1': 0.3853201010622709, 'Zhx3': 0.3831561855845441, '2810403A07Rik': 1.0}>, gene2occurrence=<frozendict {}>, transcription_factor='2810403A07Rik', context=frozenset({'activating', 'weight>75.0%'}), score=0.0, nes=0.0, orthologous_identity=0.0, similarity_qvalue=0.0, annotation=''),\n",
       " Regulon(name='Regulon for 3300002I08Rik', gene2weight=<frozendict {'Mtmr4': 7.201230365171175, 'Med17': 6.873968442880343, 'E130102H24Rik': 6.645394035955764, 'Gtf2h1': 6.3856580602199395, 'Apobec1': 6.2043294916961305, 'Ust': 5.809485045434037, 'Nmu': 4.69913293035842, 'Gm9725': 4.536691850801181, 'Smim4': 4.521390810957016, 'Ppip5k1': 4.1592980773409, 'Stard4': 3.859707113976926, 'Nuak1': 3.6965906686005265, 'Cyp4f13': 3.274988949123689, 'Stard8': 3.2397606207336116, 'Zfp358': 3.2088499726401167, 'Clec10a': 3.1747967572357956, 'Pask': 2.799060347754144, 'Sept5': 2.7552227045834923, 'Rfk': 2.7257927674222877, 'Setd6': 2.604796133902544, 'Eml3': 2.579771032739305, 'Gclc': 2.566296207733602, 'Polr2i': 2.539886926429335, 'Tns2': 2.4841739696812364, 'Zfp772': 2.4715432186341157, 'Vamp7': 2.429971512153837, 'Relt': 2.3961875464396956, 'Bzrap1': 2.348494313909567, 'Gm16052': 2.3470465048936413, 'Adamts4': 2.2745016633112205, 'Prrg1': 2.1774676092819325, '1700102P08Rik': 2.1619825597266895, 'Ppp2r5d': 2.0883056889123197, 'Abhd5': 2.0344712639995493, 'Dbr1': 1.9497759036694076, 'Gpr137b': 1.9233886072861879, 'Mrps15': 1.923013049208232, 'Ubfd1': 1.8607265626462683, 'Gm26778': 1.8510847224760245, '2610042L04Rik': 1.7973113659260458, '2900055J20Rik': 1.7908322154360965, 'Sema6d': 1.7713751447383679, 'Pdik1l': 1.7069769453862533, 'Sppl2a': 1.679810581821373, 'Cmtr2': 1.6700194387340987, 'Acy3': 1.639994257988324, 'Iqch': 1.6289547634213593, 'Klc3': 1.6254947739601824, 'Sik2': 1.4954183499406963, 'Exoc7': 1.4848375869514003, 'Lca5l': 1.4793844754829413, 'Tmem230': 1.4380749889262199, 'Asb1': 1.4346286872636786, 'Fam126a': 1.3879349115438886, 'Guf1': 1.3839474712785882, 'Fmn1': 1.383310045906994, 'Lypla2': 1.3808793757455997, 'Ruvbl1': 1.374918910300404, 'Cnot3': 1.3707813298740381, 'D630023F18Rik': 1.3508674950740849, 'Alkbh3': 1.3451063445486828, 'Otud6b': 1.3378918353088072, 'Dcun1d1': 1.3186484306963475, 'Sgsh': 1.3137151824403048, 'Zfp46': 1.3130585841607103, 'Nup88': 1.3029474726310764, 'Bsn': 1.3020272729267468, 'A230001M10Rik': 1.3000264292667552, '1700063D05Rik': 1.278779422115334, 'Bdh1': 1.249880065877781, 'Dtymk': 1.237066950495478, 'Tlr4': 1.1948037291025737, 'Dyrk1b': 1.1833705974093662, 'Smim11': 1.1624068307969577, 'Fyn': 1.117906595085618, 'Txlnb': 1.0739208627043668, 'Dffa': 1.0445612917278964, 'Pald1': 1.0213438588924948, 'Gabra3': 0.9980892009971949, 'Exoc1': 0.9928802734627485, 'Ttf1': 0.947217155011435, 'Uqcc3': 0.92720480686753, 'Ccdc167': 0.9231583466818014, 'Rfc3': 0.9091094159228174, 'Fbxo33': 0.8611270847892439, 'Cbx7': 0.8559853874246706, 'Tlr1': 0.8291130397320754, 'Ccdc9': 0.8225689937908965, 'Wbp4': 0.8198271723344195, 'Acad12': 0.799531320063401, 'Diablo': 0.7748159128584937, 'Slc22a18': 0.7583417901419819, 'Gm21994': 0.7581456829041162, 'Nt5c': 0.7579589107888164, 'Rftn2': 0.7459009028215852, 'Ttll1': 0.736711006005187, 'A930012L18Rik': 0.7284667550220725, 'Rbm3os': 0.71653672763636, 'Prdm4': 0.7162362646408683, 'Rgs18': 0.7079086032871441, 'Cd70': 0.7007796037623502, 'Zgpat': 0.6993417695890695, 'Fadd': 0.6981433856345275, 'Atg9a': 0.6973366086943543, 'Slc25a45': 0.6973134736012315, 'Gm43573': 0.6919893165111941, 'Mcoln2': 0.674012076731808, 'Cyb561d2': 0.6551724243861297, 'Stxbp6': 0.6453167652296116, 'Cldn3': 0.6422503550435195, 'Spata5': 0.6413994112868853, 'Egr4': 0.6397112356350163, 'Thap2': 0.6361706126197508, 'Cyth1': 0.6334853426618419, 'Gstm2': 0.6318368195708604, 'Casc1': 0.6298492625189834, 'Tmem42': 0.6283953861776259, '4921524J17Rik': 0.6257990893004496, 'Tead3': 0.6198193011254257, 'Uap1': 0.6085940210992082, 'Nono': 0.5959858220357728, 'Csad': 0.5949429200030453, 'Hspb11': 0.585016547353731, 'Rassf5': 0.5842057637307687, 'Tlcd2': 0.5793693944951397, 'Vps8': 0.5787683752532794, '2810405F17Rik': 0.5726545656799582, 'Psmd3': 0.5660210514210957, 'Pttg1': 0.5656824068196831, 'Dbt': 0.5615502826558323, 'Hvcn1': 0.5565731228603598, 'Polr2f': 0.5412618099394323, 'Zfyve26': 0.5411804275408781, 'Jkamp': 0.5361718561063462, 'Kcnq4': 0.5345301321308249, 'Gm15462': 0.5275937696704236, 'BC035947': 0.5236551526895952, 'Ms4a6b': 0.5179149144897484, 'Gadd45a': 0.516472622346499, 'Cd4': 0.514159597563652, 'Irg1': 0.51360246217185, 'Rnf146': 0.5047076786919692, 'Med22': 0.4925562331360185, 'Gm6277': 0.49209190294222294, 'C2cd2l': 0.48587491969174007, 'Mansc4': 0.4853334116964178, 'Ankrd13c': 0.48306757522254085, 'Vps33b': 0.47678674970117196, 'Map4k4': 0.47470966581771185, 'Ift52': 0.4746455673040601, 'Srd5a3': 0.4745660674399996, 'Bckdk': 0.474204499696824, 'Padi2': 0.47210818095698753, 'Pagr1a': 0.46878869004317325, 'Ankib1': 0.4686441736826558, 'Bcdin3d': 0.46752359974985647, 'Tsga10': 0.46622097257790285, 'Slc40a1': 0.4608125139987667, 'Ankrd34b': 0.45339653481167297, 'Il1rapl2': 0.44205228432852056, 'Gm10827': 0.44025816912565935, 'Klhl10': 0.428759409736739, 'Nkx2-2': 0.42635211975543136, 'Asb10': 0.4233875575523468, 'Fam192a': 0.4215105659149698, 'Inpp1': 0.4100491639839802, 'Ccdc15': 0.4082787884677698, 'Dip2a': 0.39783664871481317, '3300002I08Rik': 1.0}>, gene2occurrence=<frozendict {}>, transcription_factor='3300002I08Rik', context=frozenset({'activating', 'weight>75.0%'}), score=0.0, nes=0.0, orthologous_identity=0.0, similarity_qvalue=0.0, annotation=''),\n",
       " Regulon(name='Regulon for 6720489N17Rik', gene2weight=<frozendict {'Zbtb26': 10.510919908812955, 'A330048O09Rik': 9.662416310907817, 'Fgf14': 8.008534073841217, 'Hsd17b7': 6.767271027884017, 'Gtf2e2': 5.726654035654758, 'Patz1': 4.941396118044642, 'Sh3rf1': 4.152341040429961, 'Smoc1': 3.1754620485164033, 'Tmtc3': 2.889306731448217, 'Efna4': 2.8069445029452402, 'Zbtb34': 2.7926975216811076, 'Zbtb12': 2.675145005095831, 'Gm5595': 2.633546051551027, 'Hhip': 2.491906412614247, 'Tfr2': 2.1927374297952995, 'Iffo2': 2.1065847286539614, 'Hnrnpul1': 2.0006031192294906, 'Prr12': 1.9153910834949062, 'Rbm20': 1.896120908260515, 'Spred3': 1.870283898441746, 'Ugt1a7c': 1.823676012859368, 'Cfb': 1.8084260061637272, 'Tcerg1l': 1.8077091755533141, 'Uqcc1': 1.7842843006698546, 'Grhl1': 1.7652479519778246, 'Ncoa4': 1.7280863267642146, '1700084E18Rik': 1.6643648469722172, 'Foxg1': 1.5656192052184092, 'Gstt3': 1.5600893616897917, 'AI314180': 1.4932324827237564, 'Peli2': 1.4834579455346661, 'Dlg5': 1.4762119403188465, 'Msl3l2': 1.457350756741186, 'Gm15417': 1.4035771841569347, 'Mapk7': 1.3670009811050667, 'Rgs7': 1.3653995286519063, 'Igfbpl1': 1.3619037536613172, 'Med29': 1.3459494335177666, 'Cyp46a1': 1.3324868923647295, 'Ttc36': 1.3090072204103163, 'Cnot10': 1.2922645273460331, 'Clec2l': 1.251214669769701, 'Nrg2': 1.2146620482789268, 'Mtx3': 1.1978873908829033, 'Meis2': 1.1812460066119659, 'Nr2e1': 1.1811173892042592, 'Ahsa2': 1.1502926914080742, 'Ptchd2': 1.1480925975858682, 'Pkd2l1': 1.0711828153565217, 'Sec14l2': 1.0617119619421738, 'Eif2b2': 1.054957606783317, 'Jmy': 1.0512167888202317, 'Pik3r3': 1.0111072179712122, 'Cep164': 0.9921021555839128, '0610012G03Rik': 0.9893718193770376, 'Gsdma2': 0.980504313647776, 'Zfp938': 0.9785335958013359, 'Tmem80': 0.9755825823169304, 'Dtwd1': 0.9464401004538342, 'Clec1b': 0.9425258487525645, 'Sycp2': 0.9331588129885602, 'Pex14': 0.9320361133072321, 'Sptlc1': 0.9249985509542644, '4732491K20Rik': 0.9119733318867759, 'Gm20604': 0.8902676749067474, 'Cdyl': 0.8851738585890568, 'Bbox1': 0.8813473764101866, 'Gab2': 0.8771437684984522, 'Alg1': 0.8708647859493022, 'Nmt2': 0.8682047577625761, '1700123O20Rik': 0.8659428437741408, 'Crabp1': 0.850251824027877, 'Dnajb13': 0.8389130967062405, 'Tmed2': 0.8251588927487465, 'Pank1': 0.8045573085028384, 'Lrrc74b': 0.8031754930737237, 'Trpm4': 0.8004416651564302, 'Mmp15': 0.7943142219048113, '1810010H24Rik': 0.791595132178333, 'C2cd4c': 0.7832741057005046, 'Hspa1l': 0.7825156422727279, 'Mcm4': 0.7791045159302089, 'Ppfia2': 0.7768699220972802, 'Ak4': 0.7702583331673747, 'Ctla2b': 0.7692899547835851, 'Med26': 0.7684740079696327, 'Gpcpd1': 0.7667665721292461, 'Khdrbs2': 0.759018339391082, '1600002H07Rik': 0.7441230966382901, 'Ddx42': 0.738447531449542, 'Gls': 0.7226265458028058, 'Six6': 0.7217315373317091, 'Bcat1': 0.721566622246418, 'Alg3': 0.7122067325005572, 'Zfp386': 0.6929033536683098, 'Gm20554': 0.6923631741482252, 'Emc8': 0.6847074652989915, 'She': 0.6680827426948632, 'Psmb9': 0.6675698112899165, 'Cenpv': 0.6630610740968141, 'Olfr46': 0.6589585685843442, 'Fxn': 0.6577796999923702, 'Sec14l3': 0.6549317351479563, 'Tvp23a': 0.6376999056998546, 'Me1': 0.6372152068736353, 'Cbs': 0.6204080852300563, 'Lbh': 0.6083464673985302, 'Zfp523': 0.6069570356096352, 'Alox12': 0.5976379201228996, 'Tssc4': 0.5869875854513396, 'Prokr1': 0.5775194249614494, 'Rasal2': 0.5768767202506534, 'A330102I10Rik': 0.5734081622441674, 'Ctr9': 0.5662055120315485, 'Col11a1': 0.5607890161629319, 'AB041806': 0.5604582025887201, '2410004B18Rik': 0.5547948414763192, 'Rasd2': 0.532441531034951, 'Gm15247': 0.5303988116122758, 'Bean1': 0.52852661533442, 'Gm5464': 0.5274662572425527, 'Fbxl16': 0.5260294266738732, 'Ccdc43': 0.5179802921653126, 'Gm16183': 0.517803604863105, 'Klhl40': 0.5173424679355566, 'AW495222': 0.5172471939583136, 'Pitpnm1': 0.5155302339447592, 'Slc25a16': 0.5138081843234378, 'Erc2': 0.5126600609756014, 'Gm17324': 0.5123853062780996, 'Phyhip': 0.509411247880983, 'Arhgef15': 0.5091028208639046, 'Ncapg2': 0.49785331720770903, 'Fam3c': 0.49445182750555555, 'Sesn3': 0.49262074878230744, 'Cbfa2t2': 0.48702955712366136, 'Eci1': 0.4863850224135047, 'Tcea2': 0.4812046510694207, 'Zpr1': 0.4807519250686532, 'Ints1': 0.4788369545066291, 'Akr1c21': 0.46032307585123144, 'Slc16a11': 0.45679581472381986, 'Sptan1': 0.4553067277670081, 'Zfp931': 0.45489689807403755, 'Fbxl15': 0.45028421068938346, 'Cldn22': 0.4481113114136642, 'Cd24a': 0.44794867001758415, 'Gipc3': 0.4463724386316441, 'Creb3l4': 0.4424305841819058, 'Nelfcd': 0.42992229499552054, 'Rtl1': 0.42816993855933216, 'Agpat3': 0.4273518797140096, 'Asphd2': 0.42583940032605677, 'Rbmx2': 0.4257859588753797, 'Msh2': 0.4244044463267361, 'Fzr1': 0.41681859669472426, 'Sf3a2': 0.41667604042792833, 'Bola1': 0.4160303937405239, 'Ntmt1': 0.4080482548394793, 'Gm27217': 0.4070340947437035, 'Gpank1': 0.40678001284368887, 'Tmem221': 0.4045092168167787, 'Siah1a': 0.401799920444028, 'Trappc1': 0.3941303793274171, 'Ndfip2': 0.3936802889205051, 'Gale': 0.39224081740846567, 'Tm9sf1': 0.3866104817261605, 'Fam217a': 0.38597596234759635, 'Rnf103': 0.3845654592225008, '6720489N17Rik': 1.0}>, gene2occurrence=<frozendict {}>, transcription_factor='6720489N17Rik', context=frozenset({'activating', 'weight>75.0%'}), score=0.0, nes=0.0, orthologous_identity=0.0, similarity_qvalue=0.0, annotation=''),\n",
       " Regulon(name='Regulon for 9030624G23Rik', gene2weight=<frozendict {'Ypel1': 7.735060424291772, 'Aoc3': 6.593122385878257, 'B930036N10Rik': 5.915147673546817, 'Fam149a': 5.035178292324137, 'Hist1h4h': 4.6419151531885365, 'Kcnab1': 4.446423469823174, 'Olfr78': 4.08720190801415, 'Zbtb7c': 3.60230558745238, 'Gm10382': 3.5899313228714975, 'Cdh6': 3.324522961305369, 'Sp7': 3.052001990268394, 'Sgca': 3.029723030919804, 'Tmlhe': 2.68971652584416, 'Cnn1': 2.2304616055003503, 'Smim5': 2.21056625466701, 'Akr1c14': 2.132650308111219, '1700018L02Rik': 2.037805949290029, 'RP23-223O9.2': 1.9905586612363062, 'Trabd2b': 1.988793460853448, '1110015O18Rik': 1.9702802389331555, 'Nkain3': 1.910312803272664, 'Nppa': 1.8070207687761675, 'Pde3a': 1.7714094215683676, 'Cela1': 1.7223193586547372, 'Eid2': 1.7125234621495458, 'Gnat1': 1.6924295187414562, 'Gm15545': 1.6304912907658753, 'Atp8b1': 1.542838315151895, 'Wdhd1': 1.41268435985282, 'Kbtbd13': 1.3499847743904392, 'Il13ra1': 1.2699549150497211, 'Gm28782': 1.2583086510151702, 'Pmel': 1.2337176420520377, 'Tbx18': 1.2149863640200407, 'Adgra2': 1.2098266215770725, 'Sowaha': 1.1884417546627288, 'Crlf1': 1.0982079749878533, 'Osbpl10': 1.089712289378911, 'Gm44386': 1.0813571314531623, 'Cep41': 1.065962006627152, 'Gm15892': 1.0560589267621268, 'Tmem254a': 0.9385033876694091, 'Gprin2': 0.924418154333672, 'Gpr176': 0.8700038939553942, 'Kcnj12': 0.8679754884225259, 'Speg': 0.8549370855783829, 'Hcn3': 0.8159662623782046, 'Hddc2': 0.8088343622896983, 'Mpnd': 0.8001487810296195, 'Dlgap3': 0.7732782375814848, 'Cd276': 0.7652560630073335, 'Tmpo': 0.6676682806760795, 'Gm37305': 0.6650762850538819, 'Zik1': 0.6598463442169807, 'Camk1g': 0.6595356406006412, 'Gm12359': 0.6576391577962322, 'Nxnl2': 0.615592740925317, 'Spin1': 0.6142062748997769, 'Zfp300': 0.6123702513379813, 'Lrrc14b': 0.5856212805199461, 'Pogk': 0.5734327897106742, 'Kcnk3': 0.5715999825832284, 'Zfp874a': 0.5612933249269212, 'Dnd1': 0.553393345289828, 'Hunk': 0.5478320811563608, 'Ncoa2': 0.5363041165979078, 'Neto1': 0.5186169043461064, 'Tmem106b': 0.512617040807511, 'Chac1': 0.45308315344762556, 'Gm34342': 0.4490296201906361, 'Olfr558': 0.44209992598150627, 'Mkx': 0.44023929628816266, 'Vstm5': 0.43706424012004497, 'Nanos3': 0.4342191463610575, 'Alx3': 0.433849152124952, 'Mrgprf': 0.43304071169891345, 'Synpo': 0.4042391395562881, 'Gm27217': 0.40400151296547343, 'Gas2': 0.39548721704467943, 'Pitrm1': 0.39216544603126996, 'Rnf150': 0.39128413167251064, 'Zfp773': 0.3897917728093496, 'Vmac': 0.38856962711219967, '9030624G23Rik': 1.0}>, gene2occurrence=<frozendict {}>, transcription_factor='9030624G23Rik', context=frozenset({'activating', 'weight>75.0%'}), score=0.0, nes=0.0, orthologous_identity=0.0, similarity_qvalue=0.0, annotation=''),\n",
       " Regulon(name='Regulon for 9130019O22Rik', gene2weight=<frozendict {'Pcdh8': 9.197158931055554, 'Cerk': 7.3264899649822, 'Shc2': 7.177007935658569, 'Fip1l1': 6.926867105222513, 'Themis2': 6.222472392724375, 'Gng4': 5.81638329520492, 'Gbp9': 5.6671190584682565, 'Slc35c2': 5.454312939691447, 'Rffl': 5.36762541508876, 'Sp110': 5.20797523247268, 'Pvrl4': 4.826238136735347, 'Sass6': 4.68000743860045, 'Trim13': 4.677343511240641, 'Ubtd1': 4.642747195568465, 'Fbxo28': 4.579531494396081, 'Rbms2': 4.560662644144528, 'Blmh': 4.3964615063700805, 'Kat6a': 4.359017080852998, 'Mal2': 4.107417050187973, 'Syp': 3.9075843841121847, 'Dynlt1c': 3.8777320368640815, 'Mapkapk2': 3.8159961586938684, 'A630001G21Rik': 3.7244146574832664, 'Slc7a4': 3.3977298560532847, 'Tsen15': 3.195641323768523, 'Slc16a3': 3.1925973716888145, 'Szrd1': 3.038179166044693, 'Map4k4': 2.965723923937671, 'Jchain': 2.8892671564356776, 'Cdkal1': 2.845677658057184, 'Ttll1': 2.819514630762293, 'Ampd2': 2.813328751400604, 'Tmed7': 2.7816581861107337, 'Zbtb12': 2.6855710317149306, 'Zscan21': 2.6745502640827477, 'Lhfpl2': 2.4437027297652882, 'Tmem132c': 2.428355067720647, 'Lyrm9': 2.302606151546165, 'Lsm11': 2.2782309572829442, 'Stard5': 2.2422838439390107, 'Tmem120a': 2.2121723869502494, 'Phf11d': 2.0885213765032535, 'Syncrip': 2.075424510297371, 'Fam102b': 2.01841290975768, 'Csmd3': 2.0017405373875556, 'Htatip2': 1.9941513995888092, 'Cd79a': 1.8879649002829417, 'Nos1ap': 1.8841265646298444, 'Dnajc4': 1.8629138435738908, 'Pias2': 1.6749799155532694, 'Habp4': 1.673013273995263, 'Tnfrsf17': 1.5882140617563125, 'Ino80e': 1.5688527464912383, 'Sssca1': 1.5513543663338427, 'Wdr45b': 1.5280100622688717, 'Pias4': 1.5259308437234609, 'Zcchc8': 1.5095557085825584, 'Hn1': 1.4751718870291253, 'Gm29019': 1.4719505024473725, '3010003L21Rik': 1.4584817381479795, 'Myo9a': 1.4527712618467172, 'C030010L15Rik': 1.4504132426592515, 'Rab39': 1.4281517250522993, 'Gria4': 1.426262074338741, 'Trim35': 1.4055699251509624, 'Gm16485': 1.4053981998112004, 'Rnf213': 1.400891576754081, 'Ssbp4': 1.3749802015824122, 'Dhx29': 1.2939672319274522, 'Chst12': 1.2879328812064863, 'Gemin7': 1.2860465686186464, 'Arsb': 1.2835494555441715, 'Ubash3b': 1.279911052374769, 'Naip2': 1.2628903510503133, 'Slc7a7': 1.260230442222747, 'Sptlc1': 1.241228518685254, 'Zbtb45': 1.217836702463496, 'Sephs2': 1.1981395676945783, 'Hfe': 1.18271286999458, 'Gbp7': 1.1694171641666549, 'Tspan4': 1.1640652057345022, 'Armcx5': 1.131709032240699, 'Gm3448': 1.128771474192445, 'Card19': 1.1240228697406935, 'Rab1a': 1.114125122428108, 'Rnf185': 1.106775701573791, 'Zfp54': 1.0753348763653363, 'Tpp1': 1.0727581191910187, 'Akirin1': 1.0213553232757995, 'Fars2': 0.9910488545888785, 'Hacd3': 0.9902562463826939, 'Suco': 0.9767205082758681, 'Cyth2': 0.9562125428752131, 'Kdm2b': 0.9384293923075714, 'Glmp': 0.9355364910872881, 'Vps25': 0.9230276479338655, 'Slc38a1': 0.9141946388503358, 'Otub1': 0.8985257333640135, 'Gucd1': 0.8934915488055741, 'Prg2': 0.8783186116619169, 'Paox': 0.8715604313009393, 'Tub': 0.8691299318638904, 'Derl3': 0.8571791328617283, 'Sncb': 0.8438644508091822, 'Gfra1': 0.8434138492641684, 'Slpi': 0.8411576621013229, 'Col6a3': 0.840313161625282, 'Gpr176': 0.8336394332475346, 'Tspan33': 0.8249852981795849, 'Pgls': 0.8201742179807158, 'Tm6sf1': 0.7991469156929428, 'Prr11': 0.7800241378157221, 'Siglece': 0.7665769168290827, 'Bmp2k': 0.7594639964204102, 'Nuak1': 0.75258273799435, 'Kdm3b': 0.744523700810116, 'Zmiz1': 0.7401461851695776, 'Kremen1': 0.7227359484631727, 'B430306N03Rik': 0.7222436669086034, 'Bcl2l11': 0.7056539915265433, 'Teddm2': 0.702912588607352, 'Gmps': 0.6992462617852379, 'Smek2': 0.6964199251352334, 'Akr1c14': 0.6889469657364018, 'Acp2': 0.6664538612567412, 'Plcg2': 0.6583693291297079, 'Ccnd3': 0.6552736971987442, 'Zfp68': 0.6508077421091713, 'Pcsk1': 0.6413616313127001, 'Ascc1': 0.6411450284306651, 'Ostf1': 0.6385611716340448, 'Gm2245': 0.6314763470459849, 'Ssh2': 0.6302772538816815, 'Ier5': 0.6291160499101708, 'Hps3': 0.6243496689270077, 'Gm26615': 0.6218110130345613, 'Arrdc1': 0.6165884624266073, 'Arhgap22': 0.6160282545659115, 'Gm9903': 0.61162693137396, 'Acd': 0.6113885076401776, 'Ak5': 0.6100271186394628, 'Tifab': 0.6001085555916311, 'Pa2g4': 0.5922099179822188, 'Adnp2': 0.588312551189297, 'Kbtbd7': 0.588040686573566, 'Spns2': 0.569979420921563, 'Plekha2': 0.5643594846371133, 'Sugct': 0.5639070177691297, 'Naalad2': 0.5635193410024971, 'Rapsn': 0.5555996369491322, 'Trim65': 0.553194661492819, 'Hivep3': 0.55226980404422, 'Cdk5r2': 0.5495781167192677, 'Mettl8': 0.5439021033561169, 'Ifit1': 0.5297965044847074, 'Psmb8': 0.529215101740332, 'Ubxn4': 0.5049595301299871, 'Plcl2': 0.5001104095193204, 'Ndst1': 0.49813872570396756, 'Msl1': 0.49659867684484754, 'Wtap': 0.49395033695603485, '2700038G22Rik': 0.4915083593367987, 'Mlec': 0.4914461320609542, 'Sh3d19': 0.47704187462000586, 'Arhgdia': 0.47319802226908564, 'Mydgf': 0.4714884266869508, 'Ccl9': 0.46927097074980806, 'Mgat2': 0.4675430204682002, 'Slc25a46': 0.4654025151877395, 'Luc7l2': 0.4602523974463822, 'Ythdf3': 0.45295658487130275, 'Rgs14': 0.45132449626541765, 'Tiprl': 0.45126747140459367, 'Snx19': 0.4509188921389838, 'Camk2b': 0.4498938138717082, 'Gm4779': 0.44706873906997896, '1700040D17Rik': 0.4462218344610839, 'Gm16907': 0.44312325956379645, 'Hsp90b1': 0.4411273590464071, 'Cacna1i': 0.4261681526417714, 'Sh3bp1': 0.4250028079852462, 'Pde3b': 0.4181388771647929, 'Pmepa1': 0.41592169981927407, 'Zfp639': 0.40376177767708255, 'Il1rl1': 0.40192445901521795, 'Nefl': 0.3929093398182937, 'Tbl1xr1': 0.38836468461769585, 'Plekha3': 0.3867033664507948, '9130019O22Rik': 1.0}>, gene2occurrence=<frozendict {}>, transcription_factor='9130019O22Rik', context=frozenset({'activating', 'weight>75.0%'}), score=0.0, nes=0.0, orthologous_identity=0.0, similarity_qvalue=0.0, annotation=''),\n",
       " Regulon(name='Regulon for 9130023H24Rik', gene2weight=<frozendict {'Epb41l4aos': 12.055779283148677, 'Hapln3': 10.156021606862849, 'Cdca8': 8.134152001641215, 'Ano1': 7.355106403787778, 'Nts': 6.215550870935315, 'Mylpf': 5.089584074019799, 'Arntl2': 4.53917259692393, 'C1qtnf6': 4.494213846043092, '9330182L06Rik': 4.065116013771015, 'Tbx18': 3.92877622865806, 'Gsg1l': 3.872133172893863, 'Sav1': 2.865512424748543, '2210011C24Rik': 2.7761492666981877, 'Adora2a': 2.5018536228853714, '5730403I07Rik': 2.4728837689417555, 'Daxx': 2.4154479085072635, 'Mpst': 2.314397352787653, 'Ing4': 2.307650597763265, '4933406P04Rik': 2.2534909352887214, 'Zscan20': 2.18340676347012, 'Cdk1': 2.1304466698980145, 'Atg9b': 2.052379250886584, 'Ankrd46': 1.9864313314704, 'Hey2': 1.9524203771413398, 'Tsr3': 1.92999842064752, 'Cobll1': 1.923196761842532, 'Zfp775': 1.775086941550043, 'Prkra': 1.6491696467101586, 'Gm7120': 1.6471273461253135, 'Taf9b': 1.630349606254368, 'Nup107': 1.616673188200279, 'Dct': 1.5970409411915878, 'RP23-316J6.4': 1.5772788084975964, 'Zswim4': 1.5501448708259307, 'Zfp114': 1.5271298279864822, 'Fam101a': 1.5260780398712395, 'Pon3': 1.5074398281312391, 'Pla1a': 1.5055461059055117, 'Uckl1': 1.501100298578101, 'Ldb2': 1.4723683479267369, 'Ggt1': 1.4553502421085673, 'Gm16536': 1.452043281623335, 'Zc3h14': 1.4431817891010257, 'Susd2': 1.4062061948515543, 'Nrg1': 1.369639357121908, 'Nvl': 1.3692544172716015, 'Pdlim3': 1.344511460405995, 'L3mbtl2': 1.3385663526041274, 'Frmd3': 1.3012537047514618, 'Tmsb15b1': 1.2644326180738181, 'Prickle3': 1.2325528755360766, 'Zfp747': 1.230464864317003, 'Bnip3': 1.220684469267839, 'Cdkn2d': 1.2054816182060941, '1110059E24Rik': 1.1919221806154456, 'Tgfbr3': 1.1582237614763076, 'Atp2a3': 1.1562834852644706, 'Psph': 1.1492065035166354, 'Epb41l4b': 1.1432837157640983, 'Slc22a5': 1.1016419774801325, 'Mrps22': 1.0840082707807948, 'Rab33b': 1.0591563145983693, 'Dbr1': 1.0096317304137503, 'Col9a2': 1.0044576454079726, 'Adgra2': 0.991587274801356, 'Nanos3': 0.9454726239436239, 'Bricd5': 0.943584280499429, 'Gm26674': 0.9251815706416425, '1500002C15Rik': 0.8886033003839836, 'Fn3krp': 0.8858802506084398, 'Bet1': 0.8300286972780526, 'Gfra2': 0.8192910318142622, '2810001G20Rik': 0.8168623193706107, 'Gm29455': 0.7962331788205979, 'Gm16740': 0.7941848535842597, 'Pcyt1b': 0.7656219300278491, 'Kcnj8': 0.7551306830947682, 'Mrpl21': 0.7541529788831833, 'Dlat': 0.7098075315581575, 'Noc4l': 0.7092994092447827, 'Lhx1': 0.7055169667714519, 'Hic1': 0.699521013969331, 'Myo1c': 0.6988437103838926, 'Gm10094': 0.6961676512615861, 'Evpl': 0.6911829322890339, 'Lypd1': 0.6800903343044236, 'Acads': 0.6717975141958288, 'Zfp607': 0.6590566462979632, 'Timm21': 0.6509877855897014, 'BC051226': 0.6383866031573652, 'Hacd1': 0.6331832109196801, 'C530044C16Rik': 0.6323542394301962, 'Zfp605': 0.6232498631993943, 'Gdap1l1': 0.6210318693991325, 'Fndc3c1': 0.6051335427320575, 'Afap1': 0.5869663321743873, 'Bcl2l12': 0.5838874924077104, 'S100a4': 0.5754196254849447, 'Nsun3': 0.5624716351655004, 'Elavl1': 0.5442980035031094, 'Cthrc1': 0.5433509236785772, 'Gm42726': 0.5418771522346321, '1700112J16Rik': 0.5363997128742322, 'Lamc3': 0.5275117418939685, 'Lysmd1': 0.521038437101086, 'Setd8': 0.5196575865888504, 'Dhcr7': 0.5179167636529647, 'Smim4': 0.517903845632935, 'Xlr3a': 0.5094204346022441, '2010107G23Rik': 0.4820431620882454, 'C2cd2l': 0.4760218349580765, 'B830012L14Rik': 0.47513595894848915, 'Rasal1': 0.47410746445252194, 'Usp37': 0.47299785977916575, 'Barx2': 0.4664268028651894, 'Mrpl57': 0.46588739616407904, 'Mfap2': 0.4571449488927811, 'Ahsa2': 0.45023267019397345, 'Elof1': 0.44792926469197225, 'Ndor1': 0.44706816542922523, 'Hsd17b11': 0.44563636091923264, 'Mrpl36': 0.44273889018390244, 'Rbsn': 0.43893844302473795, 'Impad1': 0.4206496802395765, '4933407L21Rik': 0.41849205543138535, 'Zic4': 0.4177401820775508, 'Slc46a1': 0.41588959779525114, 'Ift81': 0.41164757042055766, 'Car7': 0.4074958771849688, 'Igfbpl1': 0.40585340370443185, 'Mplkip': 0.40438222094423976, 'Fam57b': 0.39980317248230773, 'Btf3l4': 0.39974922349121406, '1700028P14Rik': 0.39157244098590127, 'Bccip': 0.3898127161139411, 'Zfpm1': 0.38706275891171554, 'Gpr137c': 0.3855485787946924, 'Wdr4': 0.3849558016951428, '9130023H24Rik': 1.0}>, gene2occurrence=<frozendict {}>, transcription_factor='9130023H24Rik', context=frozenset({'activating', 'weight>75.0%'}), score=0.0, nes=0.0, orthologous_identity=0.0, similarity_qvalue=0.0, annotation='')]"
      ]
     },
     "execution_count": 12,
     "metadata": {},
     "output_type": "execute_result"
    }
   ],
   "source": [
    "modules[:10]"
   ]
  },
  {
   "cell_type": "markdown",
   "metadata": {},
   "source": [
    "### 2. Prune modules for targets with cis regulatory footprints (aka RcisTarget)"
   ]
  },
  {
   "cell_type": "code",
   "execution_count": null,
   "metadata": {},
   "outputs": [
    {
     "name": "stdout",
     "output_type": "stream",
     "text": [
      "[                                        ] | 0% Completed | 11.6s"
     ]
    },
    {
     "name": "stderr",
     "output_type": "stream",
     "text": [
      "\n",
      "2020-07-22 00:38:58,762 - pyscenic.transform - WARNING - Less than 80% of the genes in Regulon for 9030624G23Rik could be mapped to mm9-500bp-upstream-7species. Skipping this module.\n"
     ]
    },
    {
     "name": "stdout",
     "output_type": "stream",
     "text": [
      "[                                        ] | 0% Completed | 18.0s"
     ]
    },
    {
     "name": "stderr",
     "output_type": "stream",
     "text": [
      "\n",
      "2020-07-22 00:39:05,220 - pyscenic.transform - WARNING - Less than 80% of the genes in Regulon for Adnp could be mapped to mm9-500bp-upstream-7species. Skipping this module.\n"
     ]
    },
    {
     "name": "stdout",
     "output_type": "stream",
     "text": [
      "[                                        ] | 0% Completed |  1min 50.6s"
     ]
    }
   ],
   "source": [
    "# Calculate a list of enriched motifs and the corresponding target genes for all modules.\n",
    "with ProgressBar():\n",
    "    df = prune2df(dbs, modules, MOTIF_ANNOTATIONS_FNAME)\n",
    "\n",
    "# Create regulons from this table of enriched motifs.\n",
    "regulons = df2regulons(df)\n",
    "\n",
    "# Save the enriched motifs and the discovered regulons to disk.\n",
    "df.to_csv(MOTIFS_FNAME)\n",
    "with open(REGULONS_FNAME, \"wb\") as f:\n",
    "    pickle.dump(regulons, f)"
   ]
  },
  {
   "cell_type": "markdown",
   "metadata": {},
   "source": [
    "### 3. Cellular regulon enrichment matrix (aka AUCell)"
   ]
  },
  {
   "cell_type": "code",
   "execution_count": null,
   "metadata": {},
   "outputs": [],
   "source": [
    "auc_mtx = aucell(ex_matrix, regulons, num_workers=4)\n",
    "# 这一步出图\n",
    "# sns.clustermap(auc_mtx, figsize=(8,8))"
   ]
  },
  {
   "cell_type": "code",
   "execution_count": null,
   "metadata": {},
   "outputs": [],
   "source": [
    "auc_mtx.to_csv(AUC_FNAME)"
   ]
  },
  {
   "cell_type": "markdown",
   "metadata": {},
   "source": [
    "## pySCENIC结果导入R"
   ]
  },
  {
   "cell_type": "code",
   "execution_count": null,
   "metadata": {},
   "outputs": [],
   "source": [
    "auc_mtx = pd.read_csv(\"/home/lmlu/scRNAseq/SCENIC/OB/auc.tsv\", index_col=0)"
   ]
  },
  {
   "cell_type": "code",
   "execution_count": null,
   "metadata": {},
   "outputs": [],
   "source": [
    "with open(REGULONS_FNAME,\"rb\") as f:\n",
    "    regulons=pickle.load(f)"
   ]
  },
  {
   "cell_type": "code",
   "execution_count": null,
   "metadata": {},
   "outputs": [],
   "source": [
    "#保存为.loom格式\n",
    "from pyscenic.export import export2loom\n",
    "export2loom(ex_mtx = ex_matrix, auc_mtx = auc_mtx, regulons = regulons, out_fname = \"/home/lmlu/scRNAseq/SCENIC/OB/OB.loom\")\n",
    "# 这里会有提示（见图1），按照提示改一下\n",
    "\n",
    "export2loom(ex_mtx = ex_matrix, auc_mtx = auc_mtx, regulons = [r.rename(r.name.replace('(+)',' ('+str(len(r))+'g)')) for r in regulons], out_fname = \"/home/lmlu/scRNAseq/SCENIC/OB/OB.loom\")\n",
    "# 这一句话运行完毕后，会在指定目录下生成xxx.loom文件，这就是导入R所需要的文件"
   ]
  }
 ],
 "metadata": {
  "kernelspec": {
   "display_name": "Python 3 (ipykernel)",
   "language": "python",
   "name": "python3"
  },
  "language_info": {
   "codemirror_mode": {
    "name": "ipython",
    "version": 3
   },
   "file_extension": ".py",
   "mimetype": "text/x-python",
   "name": "python",
   "nbconvert_exporter": "python",
   "pygments_lexer": "ipython3",
   "version": "3.9.5"
  }
 },
 "nbformat": 4,
 "nbformat_minor": 2
}
