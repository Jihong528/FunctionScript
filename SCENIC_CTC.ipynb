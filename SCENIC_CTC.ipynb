{
 "cells": [
  {
   "cell_type": "code",
   "execution_count": 64,
   "metadata": {},
   "outputs": [
    {
     "ename": "ImportError",
     "evalue": "cannot import name 'load_signatures'",
     "output_type": "error",
     "traceback": [
      "\u001b[0;31m---------------------------------------------------------------------------\u001b[0m",
      "\u001b[0;31mImportError\u001b[0m                               Traceback (most recent call last)",
      "\u001b[0;32m<ipython-input-64-9ad19f5319c3>\u001b[0m in \u001b[0;36m<module>\u001b[0;34m\u001b[0m\n\u001b[1;32m     14\u001b[0m \u001b[0;34m\u001b[0m\u001b[0m\n\u001b[1;32m     15\u001b[0m \u001b[0;32mfrom\u001b[0m \u001b[0mpyscenic\u001b[0m\u001b[0;34m.\u001b[0m\u001b[0mexport\u001b[0m \u001b[0;32mimport\u001b[0m \u001b[0mexport2loom\u001b[0m\u001b[0;34m,\u001b[0m \u001b[0madd_scenic_metadata\u001b[0m\u001b[0;34m\u001b[0m\u001b[0;34m\u001b[0m\u001b[0m\n\u001b[0;32m---> 16\u001b[0;31m \u001b[0;32mfrom\u001b[0m \u001b[0mpyscenic\u001b[0m\u001b[0;34m.\u001b[0m\u001b[0mutils\u001b[0m \u001b[0;32mimport\u001b[0m \u001b[0mload_motifs\u001b[0m\u001b[0;34m,\u001b[0m\u001b[0mload_signatures\u001b[0m\u001b[0;34m\u001b[0m\u001b[0;34m\u001b[0m\u001b[0m\n\u001b[0m\u001b[1;32m     17\u001b[0m \u001b[0;32mfrom\u001b[0m \u001b[0mpyscenic\u001b[0m\u001b[0;34m.\u001b[0m\u001b[0mtransform\u001b[0m \u001b[0;32mimport\u001b[0m \u001b[0mdf2regulons\u001b[0m\u001b[0;34m\u001b[0m\u001b[0;34m\u001b[0m\u001b[0m\n\u001b[1;32m     18\u001b[0m \u001b[0;32mfrom\u001b[0m \u001b[0mpyscenic\u001b[0m\u001b[0;34m.\u001b[0m\u001b[0maucell\u001b[0m \u001b[0;32mimport\u001b[0m \u001b[0maucell\u001b[0m\u001b[0;34m\u001b[0m\u001b[0;34m\u001b[0m\u001b[0m\n",
      "\u001b[0;31mImportError\u001b[0m: cannot import name 'load_signatures'"
     ]
    }
   ],
   "source": [
    "import os, glob, re, pickle\n",
    "from functools import partial\n",
    "from collections import OrderedDict\n",
    "import operator as op\n",
    "from cytoolz import compose\n",
    "\n",
    "import pandas as pd\n",
    "import seaborn as sns\n",
    "import numpy as np\n",
    "import scanpy as sc\n",
    "import anndata as ad\n",
    "import matplotlib as mpl\n",
    "import matplotlib.pyplot as plt\n",
    "\n",
    "from pyscenic.export import export2loom, add_scenic_metadata\n",
    "from pyscenic.utils import load_motifs\n",
    "from pyscenic.transform import df2regulons\n",
    "from pyscenic.aucell import aucell\n",
    "from pyscenic.binarization import binarize\n",
    "from pyscenic.rss import regulon_specificity_scores\n",
    "from pyscenic.plotting import plot_binarization, plot_rss\n",
    "\n",
    "from IPython.display import HTML, display"
   ]
  },
  {
   "cell_type": "code",
   "execution_count": 2,
   "metadata": {},
   "outputs": [],
   "source": [
    "DATA_FOLDER=\"/home/lmlu/scRNAseq/SCENIC/NB\"\n",
    "RESOURCES_FOLDER=\"/home/lmlu/scRNAseq/SCENIC/NB\"\n",
    "DATABASE_FOLDER = \"/home/lmlu/scRNAseq/SCENIC/cisTarget_databases/\"\n",
    "SCHEDULER=\"123.122.8.24:8786\"\n",
    "DATABASES_GLOB = os.path.join(DATABASE_FOLDER, \"hg19-*.feather\")\n",
    "MOTIF_ANNOTATIONS_FNAME = os.path.join(RESOURCES_FOLDER, \"motifs-v9-nr.hgnc-m0.001-o0.0.tbl\")\n",
    "MM_TFS_FNAME = os.path.join(RESOURCES_FOLDER, 'hs_hgnc_tfs.txt')\n",
    "SC_EXP_FNAME = os.path.join(RESOURCES_FOLDER, \"allNB+CTC_extract_tumor_counts.txt\")\n",
    "REGULONS_FNAME = os.path.join(DATA_FOLDER, \"regulons.csv\")\n",
    "MOTIFS_FNAME = os.path.join(DATA_FOLDER, \"motifs.csv\")"
   ]
  },
  {
   "cell_type": "code",
   "execution_count": 40,
   "metadata": {},
   "outputs": [],
   "source": [
    "DATA_FOLDER=\"/Users/apple/Desktop/work/data/SCENIC/NB\"\n",
    "RESOURCES_FOLDER=\"/Users/apple/Desktop/work/data/SCENIC/数据\"\n",
    "DATABASE_FOLDER = \"/Users/apple/Desktop/work/data/SCENIC/cisTarget_databases/\"\n",
    "SCHEDULER=\"123.122.8.24:8786\"\n",
    "DATABASES_GLOB = os.path.join(DATABASE_FOLDER, \"hg19-*.feather\")\n",
    "MOTIF_ANNOTATIONS_FNAME = os.path.join(RESOURCES_FOLDER, \"motifs-v9-nr.hgnc-m0.001-o0.0.tbl\")\n",
    "MM_TFS_FNAME = os.path.join(RESOURCES_FOLDER, 'hs_hgnc_tfs.txt')\n",
    "SC_EXP_FNAME = os.path.join(RESOURCES_FOLDER, \"expMatrix_cover800_3P_CTCs_244.txt\")\n",
    "REGULONS_FNAME = os.path.join(DATA_FOLDER, \"regulons.csv\")\n",
    "MOTIFS_FNAME = os.path.join(DATA_FOLDER, \"motifs.csv\")"
   ]
  },
  {
   "cell_type": "code",
   "execution_count": null,
   "metadata": {},
   "outputs": [],
   "source": [
    "# 读入表达矩阵，表达矩阵的格式：横坐标是基因，纵坐标是细胞\n",
    "ex_matrix = pd.read_csv(SC_EXP_FNAME, sep='\\t', header=0, index_col=0).T\n",
    "ex_matrix.shape"
   ]
  },
  {
   "cell_type": "code",
   "execution_count": null,
   "metadata": {},
   "outputs": [],
   "source": [
    "# 导入转录因子\n",
    "tf_names = load_tf_names(MM_TFS_FNAME)\n",
    "\n",
    "# 导入数据库\n",
    "db_fnames = glob.glob(DATABASES_GLOB)\n",
    "def name(fname):\n",
    "    return os.path.basename(fname).split(\".\")[0]   \n",
    "dbs = [RankingDatabase(fname=fname, name=name(fname)) for fname in db_fnames]\n",
    "dbs"
   ]
  },
  {
   "cell_type": "code",
   "execution_count": null,
   "metadata": {},
   "outputs": [],
   "source": [
    "ex_matrix.head()"
   ]
  },
  {
   "cell_type": "markdown",
   "metadata": {},
   "source": [
    "## 1. Inference of co-expression modules"
   ]
  },
  {
   "cell_type": "code",
   "execution_count": null,
   "metadata": {},
   "outputs": [],
   "source": [
    "# 两条命令解决\n",
    "adjacencies = grnboost2(ex_matrix, tf_names=tf_names, verbose=True) #耗时"
   ]
  },
  {
   "cell_type": "code",
   "execution_count": null,
   "metadata": {},
   "outputs": [],
   "source": [
    "adjacencies.head()"
   ]
  },
  {
   "cell_type": "code",
   "execution_count": null,
   "metadata": {},
   "outputs": [],
   "source": [
    "modules = list(modules_from_adjacencies(adjacencies, ex_matrix))"
   ]
  },
  {
   "cell_type": "code",
   "execution_count": null,
   "metadata": {},
   "outputs": [],
   "source": [
    "modules[:10]"
   ]
  },
  {
   "cell_type": "markdown",
   "metadata": {},
   "source": [
    "## 2. Prune modules for targets with cis regulatory footprints (aka RcisTarget)"
   ]
  },
  {
   "cell_type": "code",
   "execution_count": 41,
   "metadata": {},
   "outputs": [
    {
     "ename": "NameError",
     "evalue": "name 'ProgressBar' is not defined",
     "output_type": "error",
     "traceback": [
      "\u001b[0;31m---------------------------------------------------------------------------\u001b[0m",
      "\u001b[0;31mNameError\u001b[0m                                 Traceback (most recent call last)",
      "\u001b[0;32m<ipython-input-41-1fb32b6a42c7>\u001b[0m in \u001b[0;36m<module>\u001b[0;34m\u001b[0m\n\u001b[1;32m      1\u001b[0m \u001b[0;31m# Calculate a list of enriched motifs and the corresponding target genes for all modules.\u001b[0m\u001b[0;34m\u001b[0m\u001b[0;34m\u001b[0m\u001b[0;34m\u001b[0m\u001b[0m\n\u001b[0;32m----> 2\u001b[0;31m \u001b[0;32mwith\u001b[0m \u001b[0mProgressBar\u001b[0m\u001b[0;34m(\u001b[0m\u001b[0;34m)\u001b[0m\u001b[0;34m:\u001b[0m\u001b[0;34m\u001b[0m\u001b[0;34m\u001b[0m\u001b[0m\n\u001b[0m\u001b[1;32m      3\u001b[0m     \u001b[0mdf\u001b[0m \u001b[0;34m=\u001b[0m \u001b[0mprune2df\u001b[0m\u001b[0;34m(\u001b[0m\u001b[0mdbs\u001b[0m\u001b[0;34m,\u001b[0m \u001b[0mmodules\u001b[0m\u001b[0;34m,\u001b[0m \u001b[0mMOTIF_ANNOTATIONS_FNAME\u001b[0m\u001b[0;34m)\u001b[0m\u001b[0;34m\u001b[0m\u001b[0;34m\u001b[0m\u001b[0m\n\u001b[1;32m      4\u001b[0m \u001b[0;34m\u001b[0m\u001b[0m\n\u001b[1;32m      5\u001b[0m \u001b[0;31m# Create regulons from this table of enriched motifs.\u001b[0m\u001b[0;34m\u001b[0m\u001b[0;34m\u001b[0m\u001b[0;34m\u001b[0m\u001b[0m\n",
      "\u001b[0;31mNameError\u001b[0m: name 'ProgressBar' is not defined"
     ]
    }
   ],
   "source": [
    "# Calculate a list of enriched motifs and the corresponding target genes for all modules.\n",
    "with ProgressBar():\n",
    "    df = prune2df(dbs, modules, MOTIF_ANNOTATIONS_FNAME)\n",
    "\n",
    "# Create regulons from this table of enriched motifs.\n",
    "regulons = df2regulons(df)\n",
    "\n",
    "# Save the enriched motifs and the discovered regulons to disk.\n",
    "df.to_csv(MOTIFS_FNAME)\n",
    "with open(REGULONS_FNAME, \"wb\") as f:\n",
    "    pickle.dump(regulons, f)"
   ]
  },
  {
   "cell_type": "markdown",
   "metadata": {},
   "source": [
    "## 3. Cellular regulon enrichment matrix (aka AUCell)"
   ]
  },
  {
   "cell_type": "code",
   "execution_count": null,
   "metadata": {},
   "outputs": [],
   "source": [
    "auc_mtx = aucell(ex_matrix, regulons, num_workers=4)\n",
    "# 这一步出图\n",
    "# sns.clustermap(auc_mtx, figsize=(8,8))"
   ]
  },
  {
   "cell_type": "code",
   "execution_count": null,
   "metadata": {},
   "outputs": [],
   "source": [
    "auc_mtx.to_csv(AUC_FNAME)"
   ]
  },
  {
   "cell_type": "markdown",
   "metadata": {},
   "source": [
    "## pySCENIC结果导入R"
   ]
  },
  {
   "cell_type": "code",
   "execution_count": null,
   "metadata": {},
   "outputs": [],
   "source": [
    "auc_mtx = pd.read_csv(\"/home/lmlu/scRNAseq/SCENIC/CTC/auc.tsv\", index_col=0)"
   ]
  },
  {
   "cell_type": "code",
   "execution_count": 6,
   "metadata": {},
   "outputs": [],
   "source": [
    "with open(REGULONS_FNAME,\"rb\") as f:\n",
    "    regulons=pickle.load(f)"
   ]
  },
  {
   "cell_type": "code",
   "execution_count": 77,
   "metadata": {},
   "outputs": [
    {
     "data": {
      "text/plain": [
       "Regulon(name='AR(+)', gene2weight=<frozendict {'SGK1': 2.345140543709752, 'ZFP36L1': 2.804323331293004, 'AR': 1.0, 'ZNF805': 2.5315971221112394, 'SULF1': 3.8658290772477955, 'RNF125': 1.8089783963877972, 'RPP30': 3.2753758800241735}>, gene2occurrence=<frozendict {}>, transcription_factor='AR', context=frozenset({'transfac_pro__M00447.png', 'activating'}), score=4.117355491320991, nes=0.0, orthologous_identity=0.0, similarity_qvalue=0.0, annotation='')"
      ]
     },
     "execution_count": 77,
     "metadata": {},
     "output_type": "execute_result"
    }
   ],
   "source": [
    "regulons[1]"
   ]
  },
  {
   "cell_type": "code",
   "execution_count": 79,
   "metadata": {},
   "outputs": [],
   "source": [
    "regulon_df = pd.DataFrame(columns = [\"regulon_name\", \"transcription_factor\", \"genes\",\n",
    "\"weights\", \"score\", \"context\"])\n",
    "for i in range(len(regulons)):\n",
    "    regulon = regulons[i]\n",
    "    regulon_dict = dict({\"regulon_name\": regulon.name,\n",
    "    \"transcription_factor\": regulon.transcription_factor,\n",
    "    \"genes\": list(regulon.genes),\n",
    "    \"weights\": list(regulon.weights),\n",
    "    \"score\": regulon.score,\n",
    "    \"nes\": regulon.nes,\n",
    "    \"gene2occurrence\": regulon.gene2occurrence,                    \n",
    "    \"context\": list(regulon.context)})\n",
    "    regulon_df = regulon_df.append(regulon_dict, ignore_index = True)\n",
    "\n",
    "regulon_df.genes = regulon_df.genes.apply(lambda x: \", \".join(x))\n",
    "regulon_df.weights = regulon_df.weights.apply(lambda x: str(x))\n",
    "regulon_df.weights = regulon_df.weights.apply(lambda x: x.replace('[', ''))\n",
    "regulon_df.context = regulon_df.context.apply(lambda x: \", \".join(x))\n",
    "\n",
    "regulon_df.to_csv(\"/Users/apple/Desktop/work/data/SCENIC/NB/regulons.csv\", index = False)"
   ]
  },
  {
   "cell_type": "code",
   "execution_count": null,
   "metadata": {},
   "outputs": [],
   "source": [
    "from pyscenic.export import export2loom\n",
    "export2loom(ex_mtx = ex_matrix, auc_mtx = auc_mtx, regulons = [r.rename(r.name.replace('(+)',' ('+str(len(r))+'g)')) for r in regulons], \n",
    "            out_fname = \"/home/lmlu/scRNAseq/SCENIC/CTC/CTC.loom\")\n",
    "# 这一句话运行完毕后，会在指定目录下生成xxx.loom文件，这就是导入R所需要的文件"
   ]
  },
  {
   "cell_type": "markdown",
   "metadata": {},
   "source": [
    "## OPTIONAL STEP 5 - Regulon activity binarization"
   ]
  },
  {
   "cell_type": "code",
   "execution_count": 1,
   "metadata": {},
   "outputs": [],
   "source": [
    "BIN_MTX_FNAME = \"/home/lmlu/scRNAseq/SCENIC/CTC/CTC.bin.csv\"\n",
    "THR_FNAME = \"/home/lmlu/scRNAseq/SCENIC/CTC/CTC.thresholds.csv\""
   ]
  },
  {
   "cell_type": "code",
   "execution_count": null,
   "metadata": {},
   "outputs": [],
   "source": [
    "bin_mtx, thresholds = binarize(auc_mtx) \n",
    "bin_mtx.to_csv(BIN_MTX_FNAME) \n",
    "thresholds.to_frame().rename(columns={0:'threshold'}).to_csv(THR_FNAME)"
   ]
  },
  {
   "cell_type": "code",
   "execution_count": null,
   "metadata": {},
   "outputs": [],
   "source": [
    "bin_mtx = pd.read_csv(BIN_MTX_FNAME, index_col=0)\n",
    "thresholds = pd.read_csv(THR_FNAME, index_col=0).threshold"
   ]
  },
  {
   "cell_type": "markdown",
   "metadata": {},
   "source": [
    "### Create heatmap with binarized regulon activity."
   ]
  },
  {
   "cell_type": "code",
   "execution_count": null,
   "metadata": {},
   "outputs": [],
   "source": [
    "def palplot(pal, names, colors=None, size=1):\n",
    "    n = len(pal)\n",
    "    f, ax = plt.subplots(1, 1, figsize=(n * size, size))\n",
    "    ax.imshow(np.arange(n).reshape(1, n),\n",
    "              cmap=mpl.colors.ListedColormap(list(pal)),\n",
    "              interpolation=\"nearest\", aspect=\"auto\")\n",
    "    ax.set_xticks(np.arange(n) - .5)\n",
    "    ax.set_yticks([-.5, .5])\n",
    "    ax.set_xticklabels([])\n",
    "    ax.set_yticklabels([])\n",
    "    colors = n * ['k'] if colors is None else colors\n",
    "    for idx, (name, color) in enumerate(zip(names, colors)):\n",
    "        ax.text(0.0+idx, 0.0, name, color=color, horizontalalignment='center', verticalalignment='center')\n",
    "    return f"
   ]
  },
  {
   "cell_type": "code",
   "execution_count": null,
   "metadata": {},
   "outputs": [],
   "source": []
  },
  {
   "cell_type": "code",
   "execution_count": null,
   "metadata": {},
   "outputs": [],
   "source": [
    "sns.set()\n",
    "sns.set_style(\"whitegrid\")\n",
    "fig = palplot(bw_palette, ['OFF', 'ON'], ['k', 'w'])\n",
    "savesvg('legend - GSE115978 - on_off.svg', fig)"
   ]
  }
 ],
 "metadata": {
  "kernelspec": {
   "display_name": "scenic_protocol",
   "language": "python",
   "name": "scenic_protocol"
  },
  "language_info": {
   "codemirror_mode": {
    "name": "ipython",
    "version": 3
   },
   "file_extension": ".py",
   "mimetype": "text/x-python",
   "name": "python",
   "nbconvert_exporter": "python",
   "pygments_lexer": "ipython3",
   "version": "3.6.10"
  }
 },
 "nbformat": 4,
 "nbformat_minor": 4
}
